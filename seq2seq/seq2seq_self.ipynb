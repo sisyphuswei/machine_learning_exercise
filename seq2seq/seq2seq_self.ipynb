{
 "cells": [
  {
   "cell_type": "code",
   "execution_count": 2,
   "metadata": {},
   "outputs": [],
   "source": [
    "#python -m spacy download en\n",
    "#python -m spacy download de\n",
    "\n",
    "import torch\n",
    "import torch.nn as nn\n",
    "import torch.optim as optim\n",
    "\n",
    "from torchtext.datasets import TranslationDataset, Multi30k\n",
    "from torchtext.data import Field, BucketIterator\n",
    "\n",
    "import spacy\n",
    "import numpy as np\n",
    "\n",
    "import random\n",
    "import math\n",
    "import time"
   ]
  },
  {
   "cell_type": "code",
   "execution_count": 3,
   "metadata": {},
   "outputs": [],
   "source": [
    "SEED = 2386\n",
    "\n",
    "random.seed(SEED)\n",
    "np.random.seed(SEED)\n",
    "torch.manual_seed(SEED)\n",
    "torch.cuda.manual_seed(SEED)\n",
    "torch.backends.cudnn.deterministic = True"
   ]
  },
  {
   "cell_type": "code",
   "execution_count": 5,
   "metadata": {},
   "outputs": [],
   "source": [
    "spacy_de = spacy.load('de')\n",
    "spacy_en = spacy.load('en')"
   ]
  },
  {
   "cell_type": "code",
   "execution_count": 6,
   "metadata": {},
   "outputs": [],
   "source": [
    "def tokenize_de(text):\n",
    "    \"\"\"\n",
    "    Tokenizes German text from a string into a list of strings (tokens) and reverses it\n",
    "    \"\"\"\n",
    "    return [tok.text for tok in spacy_de.tokenizer(text)][::-1]\n",
    "\n",
    "def tokenize_en(text):\n",
    "    \"\"\"\n",
    "    Tokenizes English text from a string into a list of strings (tokens)\n",
    "    \"\"\"\n",
    "    return [tok.text for tok in spacy_en.tokenizer(text)]"
   ]
  },
  {
   "cell_type": "code",
   "execution_count": 7,
   "metadata": {},
   "outputs": [
    {
     "name": "stderr",
     "output_type": "stream",
     "text": [
      "/Users/xiaoqi/miniconda3/envs/py36/lib/python3.6/site-packages/torchtext/data/field.py:150: UserWarning: Field class will be retired soon and moved to torchtext.legacy. Please see the most recent release notes for further information.\n",
      "  warnings.warn('{} class will be retired soon and moved to torchtext.legacy. Please see the most recent release notes for further information.'.format(self.__class__.__name__), UserWarning)\n"
     ]
    }
   ],
   "source": [
    "SRC = Field(tokenize = tokenize_de, \n",
    "            init_token = '<sos>', \n",
    "            eos_token = '<eos>', \n",
    "            lower = True)\n",
    "\n",
    "TRG = Field(tokenize = tokenize_en, \n",
    "            init_token = '<sos>', \n",
    "            eos_token = '<eos>', \n",
    "            lower = True)"
   ]
  },
  {
   "cell_type": "code",
   "execution_count": 8,
   "metadata": {},
   "outputs": [
    {
     "name": "stdout",
     "output_type": "stream",
     "text": [
      "downloading training.tar.gz\n"
     ]
    },
    {
     "name": "stderr",
     "output_type": "stream",
     "text": [
      "training.tar.gz: 100%|██████████| 1.21M/1.21M [00:02<00:00, 518kB/s]\n"
     ]
    },
    {
     "name": "stdout",
     "output_type": "stream",
     "text": [
      "downloading validation.tar.gz\n"
     ]
    },
    {
     "name": "stderr",
     "output_type": "stream",
     "text": [
      "validation.tar.gz: 100%|██████████| 46.3k/46.3k [00:00<00:00, 217kB/s]\n"
     ]
    },
    {
     "name": "stdout",
     "output_type": "stream",
     "text": [
      "downloading mmt_task1_test2016.tar.gz\n"
     ]
    },
    {
     "name": "stderr",
     "output_type": "stream",
     "text": [
      "mmt_task1_test2016.tar.gz: 100%|██████████| 66.2k/66.2k [00:00<00:00, 205kB/s]\n",
      "/Users/xiaoqi/miniconda3/envs/py36/lib/python3.6/site-packages/torchtext/data/example.py:78: UserWarning: Example class will be retired soon and moved to torchtext.legacy. Please see the most recent release notes for further information.\n",
      "  warnings.warn('Example class will be retired soon and moved to torchtext.legacy. Please see the most recent release notes for further information.', UserWarning)\n"
     ]
    }
   ],
   "source": [
    "train_data, valid_data, test_data = Multi30k.splits(exts = ('.de', '.en'), \n",
    "                                                    fields = (SRC, TRG))"
   ]
  },
  {
   "cell_type": "code",
   "execution_count": 9,
   "metadata": {},
   "outputs": [
    {
     "name": "stdout",
     "output_type": "stream",
     "text": [
      "Number of training examples: 29000\n",
      "Number of validation examples: 1014\n",
      "Number of testing examples: 1000\n"
     ]
    }
   ],
   "source": [
    "print(f\"Number of training examples: {len(train_data.examples)}\")\n",
    "print(f\"Number of validation examples: {len(valid_data.examples)}\")\n",
    "print(f\"Number of testing examples: {len(test_data.examples)}\")"
   ]
  },
  {
   "cell_type": "code",
   "execution_count": 12,
   "metadata": {},
   "outputs": [
    {
     "name": "stdout",
     "output_type": "stream",
     "text": [
      "{'src': ['.', 'antriebsradsystem', 'ein', 'bedienen', 'schutzhelmen', 'mit', 'männer', 'mehrere'], 'trg': ['several', 'men', 'in', 'hard', 'hats', 'are', 'operating', 'a', 'giant', 'pulley', 'system', '.']}\n"
     ]
    }
   ],
   "source": [
    "print(vars(train_data.examples[1]))"
   ]
  },
  {
   "cell_type": "code",
   "execution_count": 10,
   "metadata": {},
   "outputs": [
    {
     "name": "stdout",
     "output_type": "stream",
     "text": [
      "{'src': ['.', 'springen', 'nacheinander', 'die', ',', 'mädchen', 'fünf', 'mit', 'ballettklasse', 'eine'], 'trg': ['a', 'ballet', 'class', 'of', 'five', 'girls', 'jumping', 'in', 'sequence', '.']}\n"
     ]
    }
   ],
   "source": [
    "print(vars(train_data.examples[10]))"
   ]
  },
  {
   "cell_type": "code",
   "execution_count": 13,
   "metadata": {},
   "outputs": [
    {
     "name": "stdout",
     "output_type": "stream",
     "text": [
      "Unique tokens in source (de) vocabulary: 7853\n",
      "Unique tokens in target (en) vocabulary: 5893\n"
     ]
    }
   ],
   "source": [
    "SRC.build_vocab(train_data, min_freq = 2)\n",
    "TRG.build_vocab(train_data, min_freq = 2)\n",
    "print(f\"Unique tokens in source (de) vocabulary: {len(SRC.vocab)}\")\n",
    "print(f\"Unique tokens in target (en) vocabulary: {len(TRG.vocab)}\")"
   ]
  },
  {
   "cell_type": "code",
   "execution_count": 14,
   "metadata": {},
   "outputs": [
    {
     "data": {
      "text/plain": [
       "device(type='cpu')"
      ]
     },
     "execution_count": 14,
     "metadata": {},
     "output_type": "execute_result"
    }
   ],
   "source": [
    "device = torch.device('cuda' if torch.cuda.is_available() else 'cpu')\n",
    "device"
   ]
  },
  {
   "cell_type": "code",
   "execution_count": 15,
   "metadata": {},
   "outputs": [
    {
     "name": "stderr",
     "output_type": "stream",
     "text": [
      "/Users/xiaoqi/miniconda3/envs/py36/lib/python3.6/site-packages/torchtext/data/iterator.py:48: UserWarning: BucketIterator class will be retired soon and moved to torchtext.legacy. Please see the most recent release notes for further information.\n",
      "  warnings.warn('{} class will be retired soon and moved to torchtext.legacy. Please see the most recent release notes for further information.'.format(self.__class__.__name__), UserWarning)\n"
     ]
    }
   ],
   "source": [
    "BATCH_SIZE = 128\n",
    "\n",
    "train_iterator, valid_iterator, test_iterator = BucketIterator.splits(\n",
    "    (train_data, valid_data, test_data), \n",
    "    batch_size = BATCH_SIZE, \n",
    "    device = device)"
   ]
  },
  {
   "cell_type": "code",
   "execution_count": 23,
   "metadata": {},
   "outputs": [
    {
     "name": "stdout",
     "output_type": "stream",
     "text": [
      "PyTorchText BuketIterator\n",
      "\n",
      "Batch size: 128\n",
      "\n",
      "{'src': ['.', 'zusehen', 'andere', 'während', ',', 'aus', 'sand', 'dem', 'aus', 'gegenstand', 'glänzenden', 'einen', 'gräbt', 'mann', 'ein'], 'trg': ['man', 'digging', 'a', 'shiny', 'object', 'out', 'of', 'sand', 'while', 'others', 'watch', '.']}\n",
      "{'src': ['.', 'platz', 'einen', 'über', 'zusammen', 'gehen', 'männer', 'drei'], 'trg': ['three', 'men', 'walk', 'together', 'in', 'a', 'plaza', '.']}\n",
      "{'src': ['.', 'welle', 'eine', 'durch', 'reitet', 'surfboard', 'einem', 'auf', 'mann', 'junger', 'ein'], 'trg': ['young', 'man', 'on', 'a', 'surfboard', 'rides', 'a', 'rough', 'wave', '.']}\n",
      "{'src': ['.', 'mahlzeit', 'eine', 'freien', 'im', 'essen', 'frau', 'eine', 'und', 'mann', 'ein'], 'trg': ['a', 'man', 'and', 'a', 'woman', 'are', 'eating', 'a', 'meal', 'outdoors', '.']}\n",
      "{'src': ['.', 'bank', 'einer', 'auf', 'eiscreme', 'essen', 'kinder', 'zwei'], 'trg': ['two', 'children', 'are', 'eating', 'ice', 'cream', 'on', 'a', 'bench', '.']}\n",
      "{'src': ['.', 'vorbei', 'parkschildern', 'vielen', 'an', 'bürgersteig', 'einem', 'auf', 'gehen', 'skateboarder', 'zwei'], 'trg': ['two', 'skateboarders', 'walking', 'down', 'a', 'sidewalk', 'in', 'front', 'of', 'many', 'parking', 'signs', '.']}\n",
      "{'src': ['.', 'herum', 'bein', 'einem', 'auf', 'zuschauern', 'den', 'vor', 'hüpft', 'entfesselungskünstler', 'ein'], 'trg': ['an', 'escape', 'artist', 'wearing', 'converse', 'high', 'tops', 'struggles', 'on', 'one', 'foot', 'as', 'a', 'crowd', 'looks', 'on', '.']}\n",
      "{'src': ['.', 'bühnenauftritt', 'einen', 'bei', 'jubelt', 'menschenmenge', 'eine'], 'trg': ['a', 'crowd', 'is', 'assembled', 'and', 'cheering', 'for', 'an', 'on', 'stage', 'performance', '.']}\n",
      "{'src': ['.', 'dabei', 'jacke', 'meine', 'und', 'helm', 'meinen', 'habe', 'ich', ',', 'schlamm', 'den', 'in', \"'s\", 'geht', 'auf'], 'trg': ['o', 'oh', 'cool', 'going', 'mudding', ',', 'got', 'my', 'helmet', 'and', 'jacket', '.']}\n",
      "{'src': ['.', 'fangen', 'zu', 'frisbee', 'eine', 'vor', 'darauf', 'sich', 'bereitet', 'park', 'einem', 'in', 'mann', 'junger', 'ein'], 'trg': ['a', 'young', 'man', 'in', 'a', 'park', 'preparing', 'to', 'catch', 'a', 'frisbee', '.']}\n",
      "{'src': ['.', 'steht', 'drinnen', 'hemd', 'passendem', 'mit', 'mann', 'anderer', 'ein', 'während', ',', 'schulbus', 'einem', 'auf', 'sitzt', 'mann', 'ein'], 'trg': ['one', 'man', 'is', 'sitting', 'on', 'top', 'of', 'a', 'school', 'bus', ',', 'while', 'another', 'man', ',', 'wearing', 'a', 'matching', 'shirt', ',', 'is', 'standing', 'inside', '.']}\n",
      "{'src': ['.', 'zug', 'einem', 'vor', 'steht', 'gruppe', 'eine'], 'trg': ['a', 'group', 'of', 'people', 'are', 'standing', 'in', 'front', 'of', 'a', 'train', '.']}\n",
      "{'src': ['.', 'steht', '\"', 'parking', '\"', 'fenster', 'dessen', 'in', ',', 'laden', 'einem', 'vor', 'tisch', 'einem', 'an', 'sitzt', 'frau', 'eine'], 'trg': ['a', 'woman', 'sitting', 'at', 'a', 'table', 'outside', 'of', 'a', 'store', 'that', 'says', 'parking', 'in', 'the', 'window', '.']}\n",
      "{'src': ['.', 'werden', 'verkauft', 'erzeugnisse', 'dem', 'auf', ',', 'gehsteig', 'einem', 'auf', 'sind', 'kinder', 'mehrere', 'und', 'männer', 'mehrere', ',', 'frau', 'eine'], 'trg': ['there', 'is', 'a', 'woman', ',', 'several', 'men', ',', 'and', 'several', 'children', 'on', 'a', 'sidewalk', 'where', 'produce', 'is', 'being', 'sold', '.']}\n",
      "{'src': ['.', 'geländemotorrad', 'einem', 'mit', 'sprung', 'einen', 'macht', 'blau', 'in', 'mann', 'ein'], 'trg': ['a', 'man', 'in', 'blue', 'jumping', 'a', 'dirt', 'bike', '.']}\n",
      "{'src': ['.', 'wand', 'die', 'an', 'buntstiften', 'mit', 'malen', 'kinder', 'zwei'], 'trg': ['two', 'kids', 'drawing', 'on', 'the', 'wall', 'with', 'crayons', '.']}\n",
      "{'src': ['.', 'hockeyspiel', 'informelles', 'ein', 'spielen', 'kinder'], 'trg': ['children', 'playing', 'an', 'informal', 'game', 'of', 'hockey']}\n",
      "{'src': ['.', 'eishockey', 'spielt', 'trikot', 'schwarzweißen', 'einem', 'in', 'mann', 'ein'], 'trg': ['a', 'man', 'in', 'a', 'black', 'and', 'white', 'uniform', 'is', 'playing', 'ice', 'hockey', '.']}\n",
      "{'src': ['.', 'schaukel', 'einer', 'in', 'schaukelt', 'junge', 'kleiner', 'ein'], 'trg': ['a', 'young', 'boy', 'riding', 'in', 'a', 'swing', '.']}\n",
      "{'src': ['.', 'bahnhof', 'einen', 'oder', 'einkaufspassage', 'eine', 'durch', 'geht', 'leuten', 'von', 'gruppe', 'eine'], 'trg': ['group', 'of', 'people', 'walk', 'through', 'a', 'mall', 'or', 'train', 'station', '.']}\n",
      "{'src': ['.', 'zeitung', 'eine', 'lebensmittelladung', 'chinesischen', 'einem', 'in', 'liest', 'mann', 'ein'], 'trg': ['a', 'man', 'is', 'reading', 'a', 'newspaper', 'at', 'a', 'chinese', 'food', 'store', '.']}\n",
      "{'src': ['.', 'miteinander', 'matte', 'einer', 'auf', 'ringen', 'jungen', 'kleine', 'zwei'], 'trg': ['two', 'young', 'boys', 'are', 'in', 'a', 'wrestling', 'match', ',', 'on', 'a', 'mat', '.']}\n",
      "{'src': ['.', 'bach', 'einen', 'über', 'schwingt', ',', 'trägt', 'rosa', 'das', ',', 'mädchen', 'ein'], 'trg': ['a', 'girl', 'wearfing', 'pink', 'swings', 'over', 'a', 'creek', '.']}\n",
      "{'src': ['.', 'kanone', 'eine', 'parade', 'einer', 'in', 'schieben', 'hemden', 'grünen', 'in', 'leute', 'gruppe', 'eine'], 'trg': ['a', 'group', 'of', 'people', 'in', 'green', 'shirts', 'push', 'a', 'cannon', 'in', 'a', 'parade', '.']}\n",
      "{'src': ['.', 'richtungen', 'verschiedene', 'in', 'leute', 'drei', 'gehen', 'stadtstraße', 'einer', 'in'], 'trg': ['a', 'city', 'street', 'has', 'three', 'people', 'walking', 'in', 'different', 'directions', '.']}\n",
      "{'src': ['.', 'schmust', 'hund', 'weiß-grauen', 'einem', 'mit', 'die', ',', 'katze', 'schwarze', 'eine'], 'trg': ['a', 'black', 'cat', 'hugging', 'a', 'white', 'and', 'gray', 'dog', '.']}\n",
      "{'src': ['.', 'straße', 'einer', 'an', 'sitzt', 'hemd', 'braun-orangen', 'einem', 'in', 'junge', 'kleiner', 'ein'], 'trg': ['a', 'little', 'boy', 'in', 'a', 'brown', 'and', 'orange', 'shirt', 'is', 'sitting', 'by', 'a', 'street', '.']}\n",
      "{'src': ['.', 'computer', 'am', 'sandwich', 'ein', 'isst', 'typ', 'magerer', 'ein'], 'trg': ['a', 'skinny', 'guy', 'is', 'eating', 'a', 'sandwich', 'while', 'using', 'the', 'computer', '.']}\n",
      "{'src': ['.', 'schnee', 'im', 'spielt', 'und', 'lächelt', 'schneeanzug', 'einem', 'in', 'mädchen', 'kleines', 'ein'], 'trg': ['a', 'little', 'girl', 'smiles', 'in', 'her', 'snowsuit', 'while', 'playing', 'in', 'the', 'snow', '.']}\n",
      "{'src': ['.', 'fisch', 'einen', 'oberkörper', 'nacktem', 'mit', 'putzt', 'afroamerikaner', 'muskulöser', 'junger', 'ein'], 'trg': ['young', 'muscular', 'african', 'american', 'man', ',', 'cleaning', 'a', 'fish', ',', 'shirtless', '.']}\n",
      "{'src': ['.', 'schirm', 'grünen', 'einem', 'unter', 'davon', 'einer', ',', 'strand', 'am', 'stehen', 'menschen'], 'trg': ['people', 'standing', 'on', 'a', 'beach', ',', 'one', 'under', 'a', 'green', 'umbrella']}\n",
      "{'src': ['.', 'führt', 'gassi', 'hund', 'einen', 'die', ',', 'her', 'mantel', 'schwarzen', 'einem', 'in', 'frau', 'einer', 'neben', 'geht', 'regenschirm', 'rosa', 'einem', 'mit', 'und', 'jacke', 'türkisfarbenen', 'einer', 'in', 'mann', 'ein'], 'trg': ['a', 'man', 'wearing', 'a', 'teal', 'jacket', 'and', 'holding', 'a', 'pink', 'umbrella', 'walking', 'next', 'to', 'a', 'woman', 'in', 'a', 'black', 'coat', 'walking', 'a', 'dog', '.']}\n",
      "{'src': ['.', 'spielen', 'zu', 'song', 'einen', 'gitarre', 'und', 'schlagzeug', 'mit', 'komplett', 'um', ',', 'zusammen', 'kommt', 'erwachsenen', 'jungen', 'von', 'gruppe', 'eine'], 'trg': ['a', 'group', 'of', 'young', 'adults', 'come', 'together', 'to', 'perform', 'song', 'complete', 'with', 'drums', 'and', 'a', 'guitar', '.']}\n",
      "{'src': ['.', 'stange', 'gelbe', 'eine', 'über', 'nachts', 'rollerblades', 'seinen', 'auf', 'fährt', 'mann', 'ein'], 'trg': ['a', 'man', 'rollerblades', 'across', 'a', 'yellow', 'pole', 'at', 'night', '.']}\n",
      "{'src': ['.', 'steht', 'ihr', 'hinter', 'band', 'ihre', 'während', ',', 'singt', 'und', 'gitarre', 'spielt', 'frau', 'tätowierte', 'eine'], 'trg': ['a', 'tattooed', 'woman', 'plays', 'the', 'guitar', 'and', 'sings', 'while', 'her', 'band', 'stands', 'in', 'the', 'back', '.']}\n",
      "{'src': ['.', 'feld', 'einem', 'auf', 'spielen', 'rugby-spieler', 'die'], 'trg': ['the', 'rugby', 'players', 'play', 'on', 'a', 'field', '.']}\n",
      "{'src': ['.', 'teil', 'ritualtanz', 'traditionellen', 'einem', 'an', 'nimmt', 'mann', 'ein'], 'trg': ['a', 'man', 'participates', 'in', 'an', 'ancient', 'ritual', 'dance', '.']}\n",
      "{'src': ['.', 'ist', 'bild', 'hübsches', 'sehr', 'ein', 'das', 'dass', ',', 'aus', 'davon', 'ich', 'gehe', 'also', ',', 'angezeigt', 'nicht', 'werden', 'bilder', 'die'], 'trg': ['the', 'images', 'are', \"n't\", 'showing', 'up', ',', 'so', 'i', \"'\", 'm', 'going', 'to', 'assume', 'the', 'picture', 'is', 'lovely', '.']}\n",
      "{'src': ['.', 'kostüme', 'historische', 'tragen', 'udn', 'pferdewagen', 'einem', 'mit', 'fahren', 'alters', 'mittleren', 'personen', 'von', 'gruppe', 'eine'], 'trg': ['a', 'group', 'of', 'middle', '-', 'aged', 'people', 'ride', 'a', 'horse', 'drawn', 'carriage', 'while', 'dressed', 'in', 'historical', 'costumes', '.']}\n",
      "{'src': ['.', 'foto', 'ein', 'für', 'posieren', 'kleidern', 'sexy', ',', 'eleganten', 'in', 'frauen', 'brünette', 'zwei'], 'trg': ['two', 'brunette', 'women', 'in', 'stylish', ',', 'sexy', 'dresses', 'posing', 'for', 'a', 'picture', '.']}\n",
      "{'src': ['.', 'bank', 'blauen', 'einer', 'auf', 'sitzt', 'kleid', 'gestreiften', 'einem', 'in', 'frau', 'dunkelhäutige', 'eine'], 'trg': ['a', 'black', 'woman', 'in', 'a', 'striped', 'dress', 'sitting', 'on', 'a', 'blue', 'bench', '.']}\n",
      "{'src': ['.', 'stufen', 'schneebedeckten', 'auf', 'läuft', 'personen', 'von', 'gruppe', 'eine'], 'trg': ['a', 'group', 'of', 'people', 'walking', 'on', 'snowy', 'steps', '.']}\n",
      "{'src': ['.', 'ipod', 'ihrem', 'von', 'musik', 'hört', 'und', 'entlang', 'straße', 'die', 'geht', 'rot', 'und', 'schwarz', 'in', 'frau', 'eine'], 'trg': ['a', 'woman', 'in', 'black', 'and', 'red', 'listens', 'to', 'an', 'ipod', ',', 'walks', 'down', 'the', 'street']}\n",
      "{'src': ['.', 'entlang', 'mauer', 'bemalten', 'graffiti', 'mit', 'einer', 'an', 'dackel', 'seinen', 'führt', 'paar', 'ein'], 'trg': ['a', 'couple', 'walk', 'their', 'dachshund', 'past', 'a', 'wall', 'with', 'graffiti', 'on', 'it', '.']}\n",
      "{'src': ['.', 'vergnügen', 'herum', 'sie', 'um', 'personen', 'andere', 'sich', 'und', 'spielen', 'kinder', 'während', ',', 'eiscreme', 'isst', 'und', 'park', 'einem', 'in', 'sitzen', 'paar', 'junges', 'ein'], 'trg': ['a', 'young', 'couple', 'sits', 'in', 'a', 'part', 'eating', 'ice', 'cream', 'as', 'children', 'play', 'and', 'other', 'people', 'enjoy', 'themselves', 'around', 'them', '.']}\n",
      "{'src': ['.', 'straße', 'der', 'in', 'leute', 'viele', 'sind', 'es'], 'trg': ['there', 'are', 'many', 'people', 'in', 'the', 'street', '.']}\n",
      "{'src': ['.', 'entlang', 'gebäude', 'grauen', 'einem', 'neben', 'straße', 'eine', 'rädern', 'auf', 'fahren', 'männer', 'zwei'], 'trg': ['two', 'men', 'are', 'riding', 'down', 'the', 'street', 'on', 'a', 'bicycle', 'next', 'to', 'a', 'gray', 'building', '.']}\n",
      "{'src': ['.', 'fährt', 'wohngegend', 'eine', 'durch', 'motorrad', 'schwarzen', 'seinem', 'mit', 'der', ',', 'alters', 'mittleren', 'mann', 'ein'], 'trg': ['a', 'middle', '-', 'aged', 'man', 'riding', 'his', 'black', 'motorcycle', 'through', 'a', 'neighborhood', '.']}\n",
      "{'src': ['.', 'landschaft', 'die', 'auf', 'schauen', 'und', 'küste', 'der', 'an', 'sitzen', 'frau', 'eine', 'und', 'mann', 'ein'], 'trg': ['a', 'man', 'and', 'a', 'woman', 'sitting', 'on', 'the', 'shore', 'looking', 'at', 'the', 'scenery']}\n",
      "{'src': ['.', 'gasse', 'einer', 'eingang', 'am', 'ihm', 'von', 'rechts', 'und', 'links', 'stehen', 'jungen', 'zwei', 'und', 'sitzt', 'mann', 'schnurrbärtiger', 'ein'], 'trg': ['a', 'mustachioed', 'man', 'sits', 'as', 'two', 'boys', 'stand', 'on', 'either', 'side', 'of', 'him', 'at', 'the', 'entrance', 'to', 'an', 'alley', '.']}\n",
      "{'src': ['.', 'schneemann', 'einen', 'bauen', ',', 'zusammengekuschelt', 'kälte', 'die', 'gegen', ',', 'kinder', 'zwei'], 'trg': ['two', 'children', ',', 'bundled', 'up', 'against', 'the', 'cold', ',', 'building', 'a', 'small', 'snowman', '.']}\n",
      "{'src': ['.', 'bühne', 'einer', 'auf', 'instrumente', 'spielt', 'männer', 'gruppe', 'eine'], 'trg': ['a', 'group', 'of', 'men', 'play', 'instruments', 'on', 'a', 'stage', '.']}\n",
      "{'src': ['.', 'eisfläche', 'eine', 'über', 'klettert', 'eiskletterausrüstung', 'mit', 'mann', 'ein'], 'trg': ['a', 'man', 'with', 'ice', '-', 'climbing', 'gear', 'climbs', 'on', 'a', 'sheet', 'of', 'ice', '.']}\n",
      "{'src': ['.', 'spielen', 'zum', 'sind', 'bereit', 'mannschaftskollegen', 'seine', 'während', ',', 'auszeit', 'eine', 'fordert', 'footballspieler', 'ein'], 'trg': ['a', 'football', 'player', 'is', 'calling', 'a', 'time', 'out', 'while', 'his', 'teammates', 'prepare', 'to', 'play', 'football', '.']}\n",
      "{'src': ['.', 'entlang', 'skateboard', 'die', 'skateboard', 'dem', 'auf', 'fährt', 'tanktop', 'gestreiftem', 'in', 'kid'], 'trg': ['a', 'kid', 'in', 'a', 'striped', 'tank', 'top', 'skateboards', 'down', 'the', 'street']}\n",
      "{'src': ['.', 'durch', 'operation', 'eine', 'führen', 'schutzkleidung', 'mit', 'ärzte'], 'trg': ['doctors', 'wearing', 'protective', 'gear', 'are', 'performing', 'surgery', '.']}\n",
      "{'src': ['.', 'schlagzeug', 'einem', 'hinter', 'sitzt', 'tanktop', 'weißem', 'in', 'mann', 'bärtiger', 'junger'], 'trg': ['young', 'bearded', 'man', 'wearing', 'a', 'white', 'tank', 'top', 'sits', 'behind', 'a', 'drum', 'set', '.']}\n",
      "{'src': ['.', 'stromschnellen', 'durch', 'fahren', 'einerkajaks', 'in', 'männer', 'zwei'], 'trg': ['two', 'men', 'in', 'separate', 'kayaks', 'going', 'through', 'rapids', '.']}\n",
      "{'src': ['.', 'wird', 'gefahren', 'rosa', 'in', 'dame', 'jungen', 'einer', 'von', 'das', ',', 'motorrollers', 'dreirädrigen', 'eines', 'rückseite', 'der', 'auf', 'sitzen', 'kinder', 'zwei'], 'trg': ['two', 'children', 'are', 'riding', 'on', 'the', 'back', 'of', 'a', 'three', 'wheel', 'scooter', 'driven', 'by', 'a', 'young', 'lady', 'in', 'pink', '.']}\n",
      "{'src': ['.', 'fahrrad', 'seinem', 'auf', 'sonnenuntergang', 'bei', 'fährt', 'mann', 'ein'], 'trg': ['the', 'sun', 'sets', 'as', 'a', 'man', 'rides', 'his', 'bicycle', '.']}\n",
      "{'src': ['.', 'sonne', 'prallen', 'der', 'vor', 'draußen', 'kopf', 'ihren', 'schützt', 'frau', 'eine'], 'trg': ['a', 'woman', 'covers', 'her', 'head', 'while', 'outside', 'in', 'the', 'bright', 'sunlight', '.']}\n",
      "{'src': ['.', 'springbrunnenbereich', 'einem', 'in', 'spielt', 'schwimmkleidung', 'in', 'kinder', 'gruppe', 'eine'], 'trg': ['a', 'group', 'of', 'kids', 'playing', 'in', 'a', 'water', 'fountain', 'area', 'in', 'their', 'swimwear', '.']}\n",
      "{'src': ['.', 'singen', 'er', 'würde', 'als', ',', 'aufgesetzt', 'gesichtsausdruck', 'einen', 'hat', 'und', 'mikrofon', 'ein', 'hält', 'oberteil', 'braunen', 'einem', 'in', 'mann', 'ein'], 'trg': ['male', 'wearing', 'brown', 'shirt', 'holding', 'a', 'microphone', 'with', 'an', 'expression', 'of', 'singing', '.']}\n",
      "{'src': ['.', 'zu', 'licht', 'rotes', 'ein', 'auf', 'fahrrad', 'einem', 'mit', 'fährt', 'frau', 'eine'], 'trg': ['a', 'woman', 'is', 'riding', 'a', 'bicycle', 'towards', 'a', 'red', 'light', '.']}\n",
      "{'src': ['.', 't-shirt-anzeige', 'einer', 'von', 'seitlich', 'steht', 'mann', 'kahlköpfiger', 'ein'], 'trg': ['a', 'bald', 'man', 'standing', 'to', 'the', 'side', 'of', 'a', 't', '-', 'shirt', 'display', '.']}\n",
      "{'src': ['.', 'fotoalbum', 'einem', 'in', 'bilder', 'betrachtet', 'frau', 'eine'], 'trg': ['a', 'woman', 'looking', 'at', 'pictures', 'in', 'a', 'photo', 'album', '.']}\n",
      "{'src': ['.', 'um', 'lampe', 'eine', 'wirft', 'und', 'couch', 'einer', 'seite', 'der', 'auf', 'steht', 'baby', 'ein'], 'trg': ['a', 'baby', 'stands', 'on', 'the', 'side', 'of', 'a', 'couch', 'and', 'knocks', 'over', 'a', 'lamp', '.']}\n",
      "{'src': ['.', 'ist', 'beladen', 'besen', 'und', 'eimern', 'blauen', 'mit', 'der', ',', 'wagen', 'einen', 'zieht', 'oberteil', 'gestreiften', 'weiß-schwarz', 'einem', 'in', 'mann', 'ein'], 'trg': ['a', 'man', 'with', 'a', 'red', 'white', 'and', 'black', 'striped', 'shirt', 'is', 'pulling', 'a', 'cart', 'full', 'of', 'blue', 'buckets', 'and', 'brooms', '.']}\n",
      "{'src': ['.', 'spielerbank', 'der', 'auf', 'spielern', 'ihren', 'zu', 'sprechen', 'side-baseballteams', 'north', 'des', 'trainer'], 'trg': ['coaches', 'for', 'the', 'north', 'side', 'baseball', 'team', 'talk', 'to', 'their', 'players', 'in', 'the', 'dugout', '.']}\n",
      "{'src': ['.', 'entlang', 'straße', 'einer', 'joggt', 'overall', 'schwarz-weißem', 'mit', 'mann', 'ein'], 'trg': ['a', 'man', 'wearing', 'a', 'black', 'and', 'white', 'jump', 'suite', 'is', 'jogging', 'down', 'a', 'road', '.']}\n",
      "{'src': ['.', 'reden', 'miteinander', 'und', 'sitzen', 'wartebereich', 'einem', 'in', 'die', ',', 'frauen', 'drei'], 'trg': ['three', 'women', 'chat', 'while', 'sitting', 'in', 'a', 'waiting', 'area', '.']}\n",
      "{'src': ['.', 'laternenpfahl', 'einem', 'vor', 'stehen', 'männer', 'dunkelhäutige', 'zwei'], 'trg': ['two', 'black', 'men', 'standing', 'in', 'front', 'of', 'a', 'light', 'pole', '.']}\n",
      "{'src': ['.', 'auf', 'strand', 'am', 'stühle', 'stellen', 'menschen', 'drei'], 'trg': ['three', 'people', 'are', 'setting', 'up', 'chairs', 'on', 'the', 'beach', '.']}\n",
      "{'src': ['.', 'schusswaffe', 'eine', 'hält', 'maisfeld', 'einem', 'in', 'mann', 'ein'], 'trg': ['there', 'is', 'a', 'man', 'holding', 'a', 'gun', 'in', 'a', 'corn', 'field', '.']}\n",
      "{'src': ['.', 'wiese', 'einer', 'auf', 'stehen', 'leute', 'fünf'], 'trg': ['five', 'people', 'standing', 'on', 'grass', '.']}\n",
      "{'src': ['.', 'hundekörbchen', 'abgeschlossenen', 'einem', 'in', 'hund', 'dem', 'mit', 'sich', 'befinden', 'kinder', 'zwei'], 'trg': ['two', 'children', 'in', 'an', 'enclosed', 'dog', 'bed', 'with', 'the', 'dog', '.']}\n",
      "{'src': ['.', 'buch', 'ihrem', 'zu', 'notizen', 'stift', 'pinkfarbenen', 'einem', 'mit', 'macht', 'mädchen', 'ein'], 'trg': ['a', 'girl', 'using', 'a', 'pink', 'pen', 'to', 'take', 'notes', 'from', 'her', 'book', '.']}\n",
      "{'src': ['.', 'fenster', 'am', 'zug', 'einem', 'in', 'sitzt', 'mann', 'ein'], 'trg': ['a', 'man', 'sits', 'by', 'a', 'window', 'on', 'a', 'train', '.']}\n",
      "{'src': ['.', 'boden', 'dem', 'über', 'meter', 'einen', 'fast', ',', 'hat', 'genommen', 'geschirrspüler', 'dem', 'aus', 'sie', 'das', ',', 'hand', 'der', 'in', 'glas', 'einem', 'mit', 'fliegt', 'kapuzenoberteil', 'einem', 'und', 'hosen', 'blauen', 'in', 'mädchen', 'ein'], 'trg': ['a', 'girl', 'wearing', 'blue', 'pants', 'and', 'a', 'shirt', 'with', 'a', 'hood', 'is', 'seen', 'flying', 'up', 'above', 'nearly', 'two', 'feet', 'from', 'the', 'ground', 'holding', 'a', 'glass', 'which', 'she', 'has', 'removed', 'from', 'the', 'dishwasher', '.']}\n",
      "{'src': ['.', 'stadt', 'der', 'in', 'straße', 'einer', 'auf', 'sitzt', 'mann', 'asiatischer', 'ein'], 'trg': ['an', 'asian', 'man', 'sitting', 'on', 'a', 'city', 'street', '.']}\n",
      "{'src': ['.', 'wettkampf', 'einem', 'in', 'zusammen', 'rennen', 'frau', 'eine', 'und', 'männer', 'zwei'], 'trg': ['two', 'men', 'and', 'a', 'woman', 'running', 'together', 'for', 'a', 'competition', '.']}\n",
      "{'src': ['.', 'anhat', 'shirt', 'weißes', 'eine', 'ebenfalls', 'der', ',', 'schoß', 'dem', 'auf', 'jungen', 'einem', 'mit', 'jacke', 'weißen', 'einer', 'in', 'mann', 'ein'], 'trg': ['a', 'man', 'in', 'a', 'white', 'jacket', 'is', 'holding', 'a', 'boy', ',', 'who', 'is', 'also', 'wearing', 'a', 'white', 'shirt', ',', 'in', 'his', 'lap', '.']}\n",
      "{'src': ['.', 'sitzt', 'floß', 'einem', 'auf', 'sie', 'während', ',', 'gezogen', 'seil', 'einem', 'von', 'wird', 'mädchen', 'ein'], 'trg': ['a', 'girl', 'is', 'being', 'pulled', 'by', 'a', 'string', 'while', 'sitting', 'on', 'a', 'raft', '.']}\n",
      "{'src': ['.', 'meer', 'ins', 'aus', 'brücke', 'einer', 'von', 'schaut', 'paar', 'ein'], 'trg': ['a', 'couple', 'gazing', 'out', 'into', 'the', 'ocean', 'from', 'a', 'bridge', '.']}\n",
      "{'src': ['.', 'wasser', 'im', 'planscht', 'hund', 'schwarzer', 'ein'], 'trg': ['a', 'black', 'dog', 'splashes', 'in', 'the', 'water', '.']}\n",
      "{'src': ['.', 'papagei', 'ein', 'sitzt', 'nähe', 'der', 'in', ',', 'luft', 'der', 'in', 'tennisball', 'einen', 'betrachtet', 'hund', 'kleiner', 'ein'], 'trg': ['a', 'little', 'dog', 'looks', 'at', 'a', 'tennis', 'ball', 'in', 'the', 'air', 'and', 'a', 'parrot', 'sits', 'nearby', '.']}\n",
      "{'src': ['.', 'schnappschuss', 'nächsten', 'den', 'auf', 'wartet', 'und', 'händen', 'beiden', 'in', 'kamera', 'seine', 'hält', 'hut', 'mit', 'mann', 'bärtige', 'der'], 'trg': ['the', 'bearded', 'man', 'in', 'the', 'hat', 'held', 'his', 'camera', 'in', 'both', 'hands', 'waiting', 'for', 'the', 'next', 'shot', '.']}\n",
      "{'src': ['.', 'feld', 'ein', 'durch', 'ohren', 'wehenden', 'luft', 'der', 'in', 'mit', 'läuft', 'hund', 'hellbrauner', 'ein'], 'trg': ['a', 'tan', 'dog', 'runs', 'through', 'a', 'field', 'with', 'his', 'ears', 'flying', 'in', 'the', 'air']}\n",
      "{'src': ['.', 'fahrrad', 'park', 'im', 'fährt', 'und', 'mütze', 'rosafarbene', 'eine', 'trägt', 'frau', 'die'], 'trg': ['the', 'woman', 'is', 'wearing', 'a', 'pink', 'hat', 'and', 'is', 'riding', 'a', 'bike', 'in', 'the', 'park', '.']}\n",
      "{'src': ['.', 'tennisschuh', 'einen', 'hält', 'mädchen', 'kleines', 'ein'], 'trg': ['a', 'little', 'girl', 'holding', 'a', 'tennis', 'shoe', '.']}\n",
      "{'src': ['.', 'feld', 'einem', 'auf', 'läuft', 'männern', 'von', 'gruppe', 'eine'], 'trg': ['a', 'group', 'of', 'men', 'running', 'in', 'a', 'field', '.']}\n",
      "{'src': ['.', 'schnauze', 'seiner', 'mit', 'leckerbissen', 'einen', 'gleich', 'fängt', 'hund', 'ein'], 'trg': ['a', 'dog', 'is', 'about', 'to', 'catch', 'a', 'treat', 'in', 'his', 'mouth', '.']}\n",
      "{'src': ['.', 'aufschneiden', 'kuchen', 'einen', 'texas', 'in', 'landsitz', 'ihrem', 'auf', 'dinnerparty', 'einer', 'auf', 'die', ',', 'sohn', 'sein', 'und', 'vater', 'ein'], 'trg': ['a', 'father', 'and', 'his', 'son', 'cutting', 'a', 'cake', 'during', 'a', 'dinner', 'party', 'held', 'at', 'their', 'residence', 'in', 'texas', '.']}\n",
      "{'src': ['.', 'familie', 'der', 'mit', 'zug', 'kleinen', 'einem', 'mit', 'fahrt'], 'trg': ['little', 'train', 'rides', 'with', 'the', 'family', '.']}\n",
      "{'src': ['.', 'ihnen', 'über', 'leitungen', 'die', 'auf', 'blicken', ',', 'stehen', 'freien', 'im', 'die', ',', 'bauarbeiter'], 'trg': ['construction', 'workers', 'standing', 'outside', 'looking', 'at', 'wires', 'above', 'them', '.']}\n",
      "{'src': ['.', 'fan', 'einen', 'für', 'buch', 'sein', 'signiert', 'autor', 'ein'], 'trg': ['an', 'author', 'signing', 'his', 'book', 'for', 'a', 'fan', '.']}\n",
      "{'src': ['.', 'see', 'dem', 'auf', 'treibt', 'boot', 'einsames', 'ein'], 'trg': ['the', 'solitude', 'boat', 'floats', 'on', 'the', 'lake', '.']}\n",
      "{'src': ['.', 'sich', 'langweilen', 'bus', 'im', 'passagiere', 'die'], 'trg': ['the', 'passengers', 'on', 'the', 'bus', 'are', 'bored', '.']}\n",
      "{'src': ['.', 'nachtclub', 'einem', 'in', 'lächeln', 'frau', 'eine', 'und', 'mann', 'ein'], 'trg': ['a', 'man', 'and', 'a', 'woman', 'smiling', 'in', 'a', 'nightclub', '.']}\n",
      "{'src': ['.', 'hinweisen', 'schulen', 'von', 'etat', 'den', 'auf', 'die', ',', 'streikschildern', 'mit', 'marschiert', 'personen', 'von', 'gruppe', 'eine'], 'trg': ['a', 'group', 'of', 'people', 'march', 'with', 'picket', 'signs', 'referencing', 'school', 'budgets', '.']}\n",
      "{'src': ['.', 'gebäudes', 'des', 'seite', 'der', 'an', 'rebe', 'eine', 'oder', 'baum', 'ein', 'ist', 'hier'], 'trg': ['there', 'is', 'a', 'tree', 'or', 'vine', 'on', 'the', 'side', 'of', 'the', 'building', '.']}\n",
      "{'src': ['.', 'luft', 'nach', 'schnappt', 'surfbrett', 'hellen', 'einem', 'mit', 'neoprenanzug', 'im', 'surfer', 'ein'], 'trg': ['a', 'surfer', 'wearing', 'a', 'wetsuit', 'and', 'using', 'a', 'light', 'colored', 'board', 'catches', 'some', 'air', '.']}\n",
      "{'src': ['.', 'machen', 'zu', 'hasenohren', 'anzug', 'im', 'mann', 'einem', ',', 'versucht', 'kleid', 'weißen', 'einem', 'in', 'frau', 'eine'], 'trg': ['a', 'woman', 'in', 'a', 'white', 'dress', 'is', 'trying', 'to', 'give', 'a', 'man', 'in', 'a', 'suit', 'bunny', 'ears', '.']}\n",
      "{'src': ['.', 'stadt', 'der', 'in', 'gebäudes', 'eines', 'außenwand', 'einer', 'an', 'arbeitet', 'handwerker', 'ein'], 'trg': ['handyman', 'works', 'on', 'outer', 'wall', 'of', 'city', 'building', '.']}\n",
      "{'src': ['.', 'fleisch', 'schneiden', 'jungen', 'zwei'], 'trg': ['two', 'boys', 'cutting', 'some', 'meat', '.']}\n",
      "{'src': ['.', 'an', 'strand', 'einem', 'an', 'esel', 'sich', 'gucken', 'frauen', 'zwei'], 'trg': ['two', 'women', 'looking', 'at', 'donkeys', 'on', 'a', 'beach', '.']}\n",
      "{'src': ['.', 'radrennen', 'ein', 'fährt', 'frau', 'eine'], 'trg': ['a', 'woman', 'on', 'a', 'bike', 'racing', '.']}\n",
      "{'src': ['.', 'zusammen', 'singt', 'oberteilen', 'roten', 'in', 'frauen', 'von', 'gruppe', 'eine'], 'trg': ['a', 'group', 'of', 'women', 'in', 'red', 'shirts', 'singing', 'together', '.']}\n",
      "{'src': ['.', 'soundsystem', 'einem', 'und', 'plattenspieler', 'einem', 'mit', 'dj-equipment', 'um', 'rund', 'steht', 'leute', 'gruppe', 'eine'], 'trg': ['a', 'group', 'of', 'people', 'are', 'standing', 'around', 'dj', 'equipment', 'including', 'a', 'record', 'player', 'and', 'a', 'sound', 'machine', '.']}\n",
      "{'src': ['.', 'hand', 'die', 'auf', 'etwas', 'frau', 'anderen', 'einer', 'malt', 'kleidung', 'eklektischer', 'in', 'frau', 'eine'], 'trg': ['a', 'woman', 'in', 'eclectic', 'garb', 'draws', 'on', 'another', 'woman', \"'s\", 'hand', '.']}\n",
      "{'src': ['.', 'knochen', 'einem', 'an', 'liegend', 'kaut', 'hund', 'brauner', 'großer', 'ein'], 'trg': ['big', 'brown', 'dog', 'chews', 'on', 'bone', 'lying', 'down', '.']}\n",
      "{'src': ['.', 'gegeneinander', 'hintergrund', 'im', 'zuschauern', 'mit', 'volleyballspiel', 'einem', 'bei', 'spielen', 'frauenvolleyball-mannschaften', 'zwei'], 'trg': ['two', 'female', 'volleyball', 'teams', 'are', 'competing', 'in', 'a', 'volleyball', 'game', 'with', 'spectators', 'in', 'the', 'background', '.']}\n",
      "{'src': ['.', 'spazieren', 'geht', ',', 'stock', 'einem', 'und', 'mantel', 'langen', 'einem', 'in', 'person', 'eine'], 'trg': ['a', 'person', 'in', 'a', 'long', 'cloak', 'and', 'a', 'cane', 'walking', '.']}\n",
      "{'src': ['.', 'trinkt', 'kaffeetasse', 'einer', 'aus', 'sitzende', 'ende', 'am', 'der', 'wobei', ',', 'tisch', 'einem', 'an', 'sitzen', ',', 'scheinen', 'sein', 'zu', 'identisch', 'die', ',', 'männer', 'drei'], 'trg': ['there', 'are', 'three', 'men', ',', 'who', 'appear', 'to', 'be', 'identical', ',', 'sitting', 'at', 'a', 'desk', 'with', 'the', 'one', 'on', 'the', 'end', 'drinking', 'from', 'a', 'coffee', 'cup', '.']}\n",
      "{'src': ['.', 'steht', 'matte', 'der', 'auf', 'junge', 'anderer', 'ein', 'während', ',', 'salto', 'einen', 'macht', 'junge', 'ein'], 'trg': ['a', 'boy', 'does', 'a', 'flip', 'while', 'another', 'boy', 'stands', 'on', 'the', 'matt', '.']}\n",
      "{'src': ['.', 'wein', 'trinkt', 'und', 'essen', 'beim', 'steht', 'krawatte', 'und', 'hemd', 'mit', 'mann', 'kahlköpfiger', 'ein'], 'trg': ['bald', 'man', 'in', 'a', 'shirt', 'an', 'tie', 'standing', 'around', 'food', 'and', 'drinking', 'wine', '.']}\n",
      "{'src': ['.', 'an', 'zigarette', 'eine', 'sich', 'zündet', 'strickmütze', 'grauen', 'einer', 'mit', 'mann', 'ein'], 'trg': ['a', 'man', 'in', 'a', 'gray', 'stocking', 'hat', 'lights', 'a', 'cigarette', 'while', 'holding', 'a', 'pop', '.']}\n",
      "{'src': ['.', 'mund', 'offenem', 'mit', 'sie', ',', 'nebeneinander', 'steht', 'paar', 'gekleidetes', 'förmlich', 'ein'], 'trg': ['a', 'formally', 'dressed', 'couple', ',', 'she', 'with', 'her', 'mouth', 'open', ',', 'stand', 'next', 'to', 'each', 'other', '.']}\n",
      "{'src': ['.', 'zu', 'wasserfall', 'den', 'auf', 'wasser', 'das', 'durch', 'schwimmt', 'hund', 'der'], 'trg': ['the', 'dog', 'swims', 'through', 'the', 'water', 'toward', 'the', 'waterfall', '.']}\n",
      "{'src': ['.', 'weint', 'mädchen', 'der', 'eines', 'und', 'freien', 'im', 'stehen', 'mädchen', 'drei'], 'trg': ['three', 'girls', 'standing', 'outside', ',', 'one', 'girl', 'is', 'crying', '.']}\n",
      "{'src': ['.', 'imbissbude', 'mobilen', 'einer', 'vor', 'windjacke', 'weißen', 'einer', 'in', 'mann', 'einem', 'neben', 'sitzt', 'pullover', 'rosafarbenen', 'einem', 'in', 'frau', 'eine'], 'trg': ['a', 'woman', 'in', 'a', 'pink', 'sweater', 'sitting', 'next', 'to', 'a', 'man', 'in', 'a', 'white', 'windbreaker', 'in', 'front', 'of', 'a', 'mobile', 'food', 'van', '.']}\n",
      "{'src': ['.', 'pfütze', 'die', 'in', 'springt', 'rot', 'in', 'junge', 'kleine', 'der'], 'trg': ['the', 'young', 'boy', 'in', 'red', 'jumpos', 'in', 'the', 'puddle', '.']}\n",
      "{'src': ['.', 'augen', 'die', 'kindern', 'jüngeren', 'beiden', 'den', 'verdeckt', 'person', 'älteste', 'die', 'und', 'haus', 'einem', 'in', 'sofa', 'einem', 'auf', 'kleidung', 'warmer', 'in', 'sitzen', 'menschen', 'drei'], 'trg': ['three', 'people', 'sitting', 'on', 'a', 'couch', 'inside', 'a', 'house', 'dressed', 'warmly', 'and', 'the', 'oldest', 'is', 'covering', 'the', 'two', 'younger', 'kids', 'eyes', '.']}\n",
      "{'src': ['.', 'tanz', 'einen', 'für', 'proben', 'frauen'], 'trg': ['these', 'woman', 'are', 'trying', 'out', 'for', 'a', 'dance', '.']}\n",
      "{'src': ['.', 'stuhlgruppe', 'einer', 'auf', 'posierend', 'sitzt', 'frau', 'junge', 'eine'], 'trg': ['a', 'young', 'woman', 'is', 'sitting', 'down', 'on', 'a', 'group', 'of', 'chairs', 'while', 'posing', 'a', 'look', '.']}\n",
      "{'src': ['.', 'herum', 'strand', 'am', 'fackeln', 'brennende', 'wirbeln', 'männer', 'zwei'], 'trg': ['two', 'men', 'at', 'the', 'beach', 'twirl', 'sticks', 'with', 'fire', 'at', 'the', 'ends', '.']}\n",
      "{'src': ['.', 'klavier', 'spielt', 'jacke', 'braunen', 'einer', 'in', 'junge', 'kleiner', 'ein'], 'trg': ['a', 'young', 'boy', 'in', 'a', 'brown', 'jacket', 'playing', 'a', 'piano', '.']}\n",
      "{'src': ['.', 'raum', 'gefliesten', 'einem', 'in', 'gruppe', 'einer', 'zu', 'spricht', 'frau', 'gekleidete', 'schwarz', 'eine'], 'trg': ['a', 'woman', 'wearing', 'black', 'addresses', 'a', 'group', 'of', 'people', 'in', 'a', 'tiled', 'room', '.']}\n",
      "\n",
      "\n"
     ]
    }
   ],
   "source": [
    "# Create batches - needs to be called before each loop.\n",
    "train_iterator.create_batches()\n",
    "\n",
    "# Loop through BucketIterator.\n",
    "print('PyTorchText BuketIterator\\n')\n",
    "for batch in train_iterator.batches:\n",
    "\n",
    "    # Let's check batch size.\n",
    "    print('Batch size: %d\\n'% len(batch))\n",
    "    #print('LABEL\\tLENGTH\\tTEXT'.ljust(10))\n",
    "\n",
    "    # Print each example.\n",
    "    for example in batch:\n",
    "        #print('%s\\t%d'.ljust(10) % (len(example['src']), len(example['trg'])))\n",
    "        print(vars(example))\n",
    "    print('\\n')\n",
    "\n",
    "    # Only look at first batch. Reuse this code in training models.\n",
    "    break"
   ]
  },
  {
   "cell_type": "code",
   "execution_count": 37,
   "metadata": {},
   "outputs": [
    {
     "name": "stdout",
     "output_type": "stream",
     "text": [
      "tensor([[   2,    2],\n",
      "        [   4,    4],\n",
      "        [  86,    0],\n",
      "        [  20, 4017],\n",
      "        [ 629,    8],\n",
      "        [  11,   37],\n",
      "        [   9,   10],\n",
      "        [  63,  131],\n",
      "        [  20,   29],\n",
      "        [  23,   13],\n",
      "        [ 185,   96],\n",
      "        [  41,    5],\n",
      "        [ 105,    3],\n",
      "        [   3,    1],\n",
      "        [   1,    1],\n",
      "        [   1,    1],\n",
      "        [   1,    1],\n",
      "        [   1,    1],\n",
      "        [   1,    1],\n",
      "        [   1,    1],\n",
      "        [   1,    1],\n",
      "        [   1,    1],\n",
      "        [   1,    1],\n",
      "        [   1,    1],\n",
      "        [   1,    1],\n",
      "        [   1,    1],\n",
      "        [   1,    1]])\n",
      "For the first batch, the scr size is torch.Size([27, 128]), and the trg size is torch.Size([29, 128])\n"
     ]
    }
   ],
   "source": [
    "# It seems that each time the sizes are different.\n",
    "for i, batch in enumerate(train_iterator):\n",
    "    if i==0:\n",
    "        src = batch.src\n",
    "        trg = batch.trg\n",
    "        print(src[:, :2])\n",
    "        print(\"For the first batch, the scr size is {}, and the trg size is {}\".\\\n",
    "          format(src.size(), trg.size()))"
   ]
  },
  {
   "cell_type": "code",
   "execution_count": 39,
   "metadata": {},
   "outputs": [
    {
     "name": "stdout",
     "output_type": "stream",
     "text": [
      "tensor([[   2,    2],\n",
      "        [   4,    4],\n",
      "        [1426, 7186],\n",
      "        [   8,   78],\n",
      "        [  12,   11],\n",
      "        [ 569,   60],\n",
      "        [  26,  138],\n",
      "        [   5,  251],\n",
      "        [   3,   11],\n",
      "        [   1,   13],\n",
      "        [   1, 1144],\n",
      "        [   1,  229],\n",
      "        [   1,  677],\n",
      "        [   1,    5],\n",
      "        [   1,    3],\n",
      "        [   1,    1],\n",
      "        [   1,    1],\n",
      "        [   1,    1],\n",
      "        [   1,    1],\n",
      "        [   1,    1],\n",
      "        [   1,    1],\n",
      "        [   1,    1],\n",
      "        [   1,    1],\n",
      "        [   1,    1],\n",
      "        [   1,    1],\n",
      "        [   1,    1],\n",
      "        [   1,    1],\n",
      "        [   1,    1],\n",
      "        [   1,    1]])\n",
      "For the first batch, the scr size is torch.Size([29, 128]), and the trg size is torch.Size([26, 128])\n"
     ]
    }
   ],
   "source": [
    "# It seems that each time the sizes are different.\n",
    "for i, batch in enumerate(train_iterator):\n",
    "    if i==0:\n",
    "        src = batch.src\n",
    "        trg = batch.trg\n",
    "        print(src[:, :2])\n",
    "        print(\"For the first batch, the scr size is {}, and the trg size is {}\".\\\n",
    "          format(src.size(), trg.size()))"
   ]
  },
  {
   "cell_type": "code",
   "execution_count": 40,
   "metadata": {},
   "outputs": [],
   "source": [
    "class Encoder(nn.Module):\n",
    "    def __init__(self, input_dim, emb_dim, hid_dim, n_layers, dropout):\n",
    "        super().__init__()\n",
    "        \n",
    "        self.hid_dim = hid_dim\n",
    "        self.n_layers = n_layers\n",
    "        \n",
    "        self.embedding = nn.Embedding(input_dim, emb_dim)\n",
    "        \n",
    "        self.rnn = nn.LSTM(emb_dim, hid_dim, n_layers, dropout = dropout)\n",
    "        \n",
    "        self.dropout = nn.Dropout(dropout)\n",
    "        \n",
    "    def forward(self, src):\n",
    "        \n",
    "        #src = [src len, batch size]\n",
    "        \n",
    "        embedded = self.dropout(self.embedding(src))\n",
    "        \n",
    "        #embedded = [src len, batch size, emb dim]\n",
    "        #Xiaoqi: here scr_len corresponds to the seq_len, and emb_dim \n",
    "        #corresponds to the input_size\n",
    "        \n",
    "        outputs, (hidden, cell) = self.rnn(embedded)\n",
    "        \n",
    "        #outputs = [src len, batch size, hid dim * n directions]\n",
    "        #hidden = [n layers * n directions, batch size, hid dim]\n",
    "        #cell = [n layers * n directions, batch size, hid dim]\n",
    "        \n",
    "        #outputs are always from the top hidden layer\n",
    "        \n",
    "        return hidden, cell"
   ]
  },
  {
   "cell_type": "code",
   "execution_count": 41,
   "metadata": {},
   "outputs": [],
   "source": [
    "class Decoder(nn.Module):\n",
    "    def __init__(self, output_dim, emb_dim, hid_dim, n_layers, dropout):\n",
    "        super().__init__()\n",
    "        \n",
    "        self.output_dim = output_dim\n",
    "        self.hid_dim = hid_dim\n",
    "        self.n_layers = n_layers\n",
    "        \n",
    "        self.embedding = nn.Embedding(output_dim, emb_dim)\n",
    "        \n",
    "        self.rnn = nn.LSTM(emb_dim, hid_dim, n_layers, dropout = dropout)\n",
    "        \n",
    "        self.fc_out = nn.Linear(hid_dim, output_dim)\n",
    "        \n",
    "        self.dropout = nn.Dropout(dropout)\n",
    "        \n",
    "    def forward(self, input, hidden, cell):\n",
    "        \n",
    "        #input = [batch size]\n",
    "        #hidden = [n layers * n directions, batch size, hid dim]\n",
    "        #cell = [n layers * n directions, batch size, hid dim]\n",
    "        \n",
    "        #n directions in the decoder will both always be 1, therefore:\n",
    "        #hidden = [n layers, batch size, hid dim]\n",
    "        #context = [n layers, batch size, hid dim]\n",
    "        \n",
    "        input = input.unsqueeze(0)\n",
    "        \n",
    "        #input = [1, batch size]\n",
    "        \n",
    "        embedded = self.dropout(self.embedding(input))\n",
    "        \n",
    "        #embedded = [1, batch size, emb dim]\n",
    "                \n",
    "        output, (hidden, cell) = self.rnn(embedded, (hidden, cell))\n",
    "        \n",
    "        #output = [seq len, batch size, hid dim * n directions]\n",
    "        #hidden = [n layers * n directions, batch size, hid dim]\n",
    "        #cell = [n layers * n directions, batch size, hid dim]\n",
    "        \n",
    "        #seq len and n directions will always be 1 in the decoder, therefore:\n",
    "        #output = [1, batch size, hid dim]\n",
    "        #hidden = [n layers, batch size, hid dim]\n",
    "        #cell = [n layers, batch size, hid dim]\n",
    "        \n",
    "        prediction = self.fc_out(output.squeeze(0))\n",
    "        \n",
    "        #prediction = [batch size, output dim]\n",
    "        \n",
    "        return prediction, hidden, cell"
   ]
  },
  {
   "cell_type": "code",
   "execution_count": 42,
   "metadata": {},
   "outputs": [],
   "source": [
    "class Seq2Seq(nn.Module):\n",
    "    def __init__(self, encoder, decoder, device):\n",
    "        super().__init__()\n",
    "        \n",
    "        self.encoder = encoder\n",
    "        self.decoder = decoder\n",
    "        self.device = device\n",
    "        \n",
    "        assert encoder.hid_dim == decoder.hid_dim, \\\n",
    "            \"Hidden dimensions of encoder and decoder must be equal!\"\n",
    "        assert encoder.n_layers == decoder.n_layers, \\\n",
    "            \"Encoder and decoder must have equal number of layers!\"\n",
    "        \n",
    "    def forward(self, src, trg, teacher_forcing_ratio = 0.5):\n",
    "        \n",
    "        #src = [src len, batch size]\n",
    "        #trg = [trg len, batch size]\n",
    "        #teacher_forcing_ratio is probability to use teacher forcing\n",
    "        #e.g. if teacher_forcing_ratio is 0.75 we use ground-truth inputs 75% of the time\n",
    "        \n",
    "        batch_size = trg.shape[1]\n",
    "        trg_len = trg.shape[0]\n",
    "        trg_vocab_size = self.decoder.output_dim\n",
    "        \n",
    "        #tensor to store decoder outputs\n",
    "        outputs = torch.zeros(trg_len, batch_size, trg_vocab_size).to(self.device)\n",
    "        \n",
    "        #last hidden state of the encoder is used as the initial hidden state of the decoder\n",
    "        hidden, cell = self.encoder(src)\n",
    "        \n",
    "        #first input to the decoder is the <sos> tokens\n",
    "        input = trg[0,:]\n",
    "        \n",
    "        for t in range(1, trg_len):\n",
    "            \n",
    "            #insert input token embedding, previous hidden and previous cell states\n",
    "            #receive output tensor (predictions) and new hidden and cell states\n",
    "            output, hidden, cell = self.decoder(input, hidden, cell)\n",
    "            \n",
    "            #place predictions in a tensor holding predictions for each token\n",
    "            outputs[t] = output\n",
    "            \n",
    "            #decide if we are going to use teacher forcing or not\n",
    "            teacher_force = random.random() < teacher_forcing_ratio\n",
    "            \n",
    "            #get the highest predicted token from our predictions\n",
    "            top1 = output.argmax(1) \n",
    "            \n",
    "            #if teacher forcing, use actual next token as next input\n",
    "            #if not, use predicted token\n",
    "            input = trg[t] if teacher_force else top1\n",
    "        \n",
    "        return outputs"
   ]
  },
  {
   "cell_type": "code",
   "execution_count": 43,
   "metadata": {},
   "outputs": [],
   "source": [
    "INPUT_DIM = len(SRC.vocab)\n",
    "OUTPUT_DIM = len(TRG.vocab)\n",
    "ENC_EMB_DIM = 256\n",
    "DEC_EMB_DIM = 256\n",
    "HID_DIM = 512\n",
    "N_LAYERS = 2\n",
    "ENC_DROPOUT = 0.5\n",
    "DEC_DROPOUT = 0.5\n",
    "\n",
    "enc = Encoder(INPUT_DIM, ENC_EMB_DIM, HID_DIM, N_LAYERS, ENC_DROPOUT)\n",
    "dec = Decoder(OUTPUT_DIM, DEC_EMB_DIM, HID_DIM, N_LAYERS, DEC_DROPOUT)\n",
    "\n",
    "model = Seq2Seq(enc, dec, device).to(device)"
   ]
  },
  {
   "cell_type": "code",
   "execution_count": 44,
   "metadata": {},
   "outputs": [
    {
     "data": {
      "text/plain": [
       "Seq2Seq(\n",
       "  (encoder): Encoder(\n",
       "    (embedding): Embedding(7853, 256)\n",
       "    (rnn): LSTM(256, 512, num_layers=2, dropout=0.5)\n",
       "    (dropout): Dropout(p=0.5, inplace=False)\n",
       "  )\n",
       "  (decoder): Decoder(\n",
       "    (embedding): Embedding(5893, 256)\n",
       "    (rnn): LSTM(256, 512, num_layers=2, dropout=0.5)\n",
       "    (fc_out): Linear(in_features=512, out_features=5893, bias=True)\n",
       "    (dropout): Dropout(p=0.5, inplace=False)\n",
       "  )\n",
       ")"
      ]
     },
     "execution_count": 44,
     "metadata": {},
     "output_type": "execute_result"
    }
   ],
   "source": [
    "def init_weights(m):\n",
    "    for name, param in m.named_parameters():\n",
    "        nn.init.uniform_(param.data, -0.08, 0.08)\n",
    "        \n",
    "model.apply(init_weights)"
   ]
  },
  {
   "cell_type": "code",
   "execution_count": 45,
   "metadata": {},
   "outputs": [
    {
     "name": "stdout",
     "output_type": "stream",
     "text": [
      "The model has 13,898,501 trainable parameters\n"
     ]
    }
   ],
   "source": [
    "def count_parameters(model):\n",
    "    return sum(p.numel() for p in model.parameters() if p.requires_grad)\n",
    "\n",
    "print(f'The model has {count_parameters(model):,} trainable parameters')"
   ]
  },
  {
   "cell_type": "code",
   "execution_count": 46,
   "metadata": {},
   "outputs": [],
   "source": [
    "optimizer = optim.Adam(model.parameters())\n",
    "\n",
    "TRG_PAD_IDX = TRG.vocab.stoi[TRG.pad_token]\n",
    "\n",
    "criterion = nn.CrossEntropyLoss(ignore_index = TRG_PAD_IDX)"
   ]
  },
  {
   "cell_type": "code",
   "execution_count": 47,
   "metadata": {},
   "outputs": [],
   "source": [
    "def train(model, iterator, optimizer, criterion, clip):\n",
    "    \n",
    "    model.train()\n",
    "    \n",
    "    epoch_loss = 0\n",
    "    \n",
    "    for i, batch in enumerate(iterator):\n",
    "        \n",
    "        src = batch.src\n",
    "        trg = batch.trg\n",
    "        \n",
    "        optimizer.zero_grad()\n",
    "        \n",
    "        output = model(src, trg)\n",
    "        \n",
    "        #trg = [trg len, batch size]\n",
    "        #output = [trg len, batch size, output dim]\n",
    "        \n",
    "        # reshape output and trg so that they can be feed into the loss function\n",
    "        output_dim = output.shape[-1]\n",
    "        \n",
    "        output = output[1:].view(-1, output_dim)\n",
    "        trg = trg[1:].view(-1)\n",
    "        \n",
    "        #trg = [(trg len - 1) * batch size]\n",
    "        #output = [(trg len - 1) * batch size, output dim]\n",
    "        \n",
    "        loss = criterion(output, trg)\n",
    "        \n",
    "        loss.backward()\n",
    "        \n",
    "        torch.nn.utils.clip_grad_norm_(model.parameters(), clip)\n",
    "        \n",
    "        optimizer.step()\n",
    "        \n",
    "        epoch_loss += loss.item()\n",
    "        \n",
    "    return epoch_loss / len(iterator)"
   ]
  },
  {
   "cell_type": "code",
   "execution_count": 48,
   "metadata": {},
   "outputs": [],
   "source": [
    "def evaluate(model, iterator, criterion):\n",
    "    \n",
    "    model.eval()\n",
    "    \n",
    "    epoch_loss = 0\n",
    "    \n",
    "    with torch.no_grad():\n",
    "    \n",
    "        for i, batch in enumerate(iterator):\n",
    "\n",
    "            src = batch.src\n",
    "            trg = batch.trg\n",
    "\n",
    "            output = model(src, trg, 0) #turn off teacher forcing\n",
    "\n",
    "            #trg = [trg len, batch size]\n",
    "            #output = [trg len, batch size, output dim]\n",
    "\n",
    "            output_dim = output.shape[-1]\n",
    "            \n",
    "            output = output[1:].view(-1, output_dim)\n",
    "            trg = trg[1:].view(-1)\n",
    "\n",
    "            #trg = [(trg len - 1) * batch size]\n",
    "            #output = [(trg len - 1) * batch size, output dim]\n",
    "\n",
    "            loss = criterion(output, trg)\n",
    "            \n",
    "            epoch_loss += loss.item()\n",
    "        \n",
    "    return epoch_loss / len(iterator)"
   ]
  },
  {
   "cell_type": "code",
   "execution_count": 49,
   "metadata": {},
   "outputs": [],
   "source": [
    "def epoch_time(start_time, end_time):\n",
    "    elapsed_time = end_time - start_time\n",
    "    elapsed_mins = int(elapsed_time / 60)\n",
    "    elapsed_secs = int(elapsed_time - (elapsed_mins * 60))\n",
    "    return elapsed_mins, elapsed_secs"
   ]
  },
  {
   "cell_type": "code",
   "execution_count": 50,
   "metadata": {},
   "outputs": [
    {
     "ename": "KeyboardInterrupt",
     "evalue": "",
     "output_type": "error",
     "traceback": [
      "\u001b[0;31m---------------------------------------------------------------------------\u001b[0m",
      "\u001b[0;31mKeyboardInterrupt\u001b[0m                         Traceback (most recent call last)",
      "\u001b[0;32m<ipython-input-50-3c6802c6222c>\u001b[0m in \u001b[0;36m<module>\u001b[0;34m\u001b[0m\n\u001b[1;32m      8\u001b[0m     \u001b[0mstart_time\u001b[0m \u001b[0;34m=\u001b[0m \u001b[0mtime\u001b[0m\u001b[0;34m.\u001b[0m\u001b[0mtime\u001b[0m\u001b[0;34m(\u001b[0m\u001b[0;34m)\u001b[0m\u001b[0;34m\u001b[0m\u001b[0;34m\u001b[0m\u001b[0m\n\u001b[1;32m      9\u001b[0m \u001b[0;34m\u001b[0m\u001b[0m\n\u001b[0;32m---> 10\u001b[0;31m     \u001b[0mtrain_loss\u001b[0m \u001b[0;34m=\u001b[0m \u001b[0mtrain\u001b[0m\u001b[0;34m(\u001b[0m\u001b[0mmodel\u001b[0m\u001b[0;34m,\u001b[0m \u001b[0mtrain_iterator\u001b[0m\u001b[0;34m,\u001b[0m \u001b[0moptimizer\u001b[0m\u001b[0;34m,\u001b[0m \u001b[0mcriterion\u001b[0m\u001b[0;34m,\u001b[0m \u001b[0mCLIP\u001b[0m\u001b[0;34m)\u001b[0m\u001b[0;34m\u001b[0m\u001b[0;34m\u001b[0m\u001b[0m\n\u001b[0m\u001b[1;32m     11\u001b[0m     \u001b[0mvalid_loss\u001b[0m \u001b[0;34m=\u001b[0m \u001b[0mevaluate\u001b[0m\u001b[0;34m(\u001b[0m\u001b[0mmodel\u001b[0m\u001b[0;34m,\u001b[0m \u001b[0mvalid_iterator\u001b[0m\u001b[0;34m,\u001b[0m \u001b[0mcriterion\u001b[0m\u001b[0;34m)\u001b[0m\u001b[0;34m\u001b[0m\u001b[0;34m\u001b[0m\u001b[0m\n\u001b[1;32m     12\u001b[0m \u001b[0;34m\u001b[0m\u001b[0m\n",
      "\u001b[0;32m<ipython-input-47-8d78b057d4f4>\u001b[0m in \u001b[0;36mtrain\u001b[0;34m(model, iterator, optimizer, criterion, clip)\u001b[0m\n\u001b[1;32m     27\u001b[0m         \u001b[0mloss\u001b[0m \u001b[0;34m=\u001b[0m \u001b[0mcriterion\u001b[0m\u001b[0;34m(\u001b[0m\u001b[0moutput\u001b[0m\u001b[0;34m,\u001b[0m \u001b[0mtrg\u001b[0m\u001b[0;34m)\u001b[0m\u001b[0;34m\u001b[0m\u001b[0;34m\u001b[0m\u001b[0m\n\u001b[1;32m     28\u001b[0m \u001b[0;34m\u001b[0m\u001b[0m\n\u001b[0;32m---> 29\u001b[0;31m         \u001b[0mloss\u001b[0m\u001b[0;34m.\u001b[0m\u001b[0mbackward\u001b[0m\u001b[0;34m(\u001b[0m\u001b[0;34m)\u001b[0m\u001b[0;34m\u001b[0m\u001b[0;34m\u001b[0m\u001b[0m\n\u001b[0m\u001b[1;32m     30\u001b[0m \u001b[0;34m\u001b[0m\u001b[0m\n\u001b[1;32m     31\u001b[0m         \u001b[0mtorch\u001b[0m\u001b[0;34m.\u001b[0m\u001b[0mnn\u001b[0m\u001b[0;34m.\u001b[0m\u001b[0mutils\u001b[0m\u001b[0;34m.\u001b[0m\u001b[0mclip_grad_norm_\u001b[0m\u001b[0;34m(\u001b[0m\u001b[0mmodel\u001b[0m\u001b[0;34m.\u001b[0m\u001b[0mparameters\u001b[0m\u001b[0;34m(\u001b[0m\u001b[0;34m)\u001b[0m\u001b[0;34m,\u001b[0m \u001b[0mclip\u001b[0m\u001b[0;34m)\u001b[0m\u001b[0;34m\u001b[0m\u001b[0;34m\u001b[0m\u001b[0m\n",
      "\u001b[0;32m~/miniconda3/envs/py36/lib/python3.6/site-packages/torch/tensor.py\u001b[0m in \u001b[0;36mbackward\u001b[0;34m(self, gradient, retain_graph, create_graph)\u001b[0m\n\u001b[1;32m    219\u001b[0m                 \u001b[0mretain_graph\u001b[0m\u001b[0;34m=\u001b[0m\u001b[0mretain_graph\u001b[0m\u001b[0;34m,\u001b[0m\u001b[0;34m\u001b[0m\u001b[0;34m\u001b[0m\u001b[0m\n\u001b[1;32m    220\u001b[0m                 create_graph=create_graph)\n\u001b[0;32m--> 221\u001b[0;31m         \u001b[0mtorch\u001b[0m\u001b[0;34m.\u001b[0m\u001b[0mautograd\u001b[0m\u001b[0;34m.\u001b[0m\u001b[0mbackward\u001b[0m\u001b[0;34m(\u001b[0m\u001b[0mself\u001b[0m\u001b[0;34m,\u001b[0m \u001b[0mgradient\u001b[0m\u001b[0;34m,\u001b[0m \u001b[0mretain_graph\u001b[0m\u001b[0;34m,\u001b[0m \u001b[0mcreate_graph\u001b[0m\u001b[0;34m)\u001b[0m\u001b[0;34m\u001b[0m\u001b[0;34m\u001b[0m\u001b[0m\n\u001b[0m\u001b[1;32m    222\u001b[0m \u001b[0;34m\u001b[0m\u001b[0m\n\u001b[1;32m    223\u001b[0m     \u001b[0;32mdef\u001b[0m \u001b[0mregister_hook\u001b[0m\u001b[0;34m(\u001b[0m\u001b[0mself\u001b[0m\u001b[0;34m,\u001b[0m \u001b[0mhook\u001b[0m\u001b[0;34m)\u001b[0m\u001b[0;34m:\u001b[0m\u001b[0;34m\u001b[0m\u001b[0;34m\u001b[0m\u001b[0m\n",
      "\u001b[0;32m~/miniconda3/envs/py36/lib/python3.6/site-packages/torch/autograd/__init__.py\u001b[0m in \u001b[0;36mbackward\u001b[0;34m(tensors, grad_tensors, retain_graph, create_graph, grad_variables)\u001b[0m\n\u001b[1;32m    130\u001b[0m     Variable._execution_engine.run_backward(\n\u001b[1;32m    131\u001b[0m         \u001b[0mtensors\u001b[0m\u001b[0;34m,\u001b[0m \u001b[0mgrad_tensors_\u001b[0m\u001b[0;34m,\u001b[0m \u001b[0mretain_graph\u001b[0m\u001b[0;34m,\u001b[0m \u001b[0mcreate_graph\u001b[0m\u001b[0;34m,\u001b[0m\u001b[0;34m\u001b[0m\u001b[0;34m\u001b[0m\u001b[0m\n\u001b[0;32m--> 132\u001b[0;31m         allow_unreachable=True)  # allow_unreachable flag\n\u001b[0m\u001b[1;32m    133\u001b[0m \u001b[0;34m\u001b[0m\u001b[0m\n\u001b[1;32m    134\u001b[0m \u001b[0;34m\u001b[0m\u001b[0m\n",
      "\u001b[0;31mKeyboardInterrupt\u001b[0m: "
     ]
    }
   ],
   "source": [
    "N_EPOCHS = 10\n",
    "CLIP = 1\n",
    "\n",
    "best_valid_loss = float('inf')\n",
    "\n",
    "for epoch in range(N_EPOCHS):\n",
    "    \n",
    "    start_time = time.time()\n",
    "    \n",
    "    train_loss = train(model, train_iterator, optimizer, criterion, CLIP)\n",
    "    valid_loss = evaluate(model, valid_iterator, criterion)\n",
    "    \n",
    "    end_time = time.time()\n",
    "    \n",
    "    epoch_mins, epoch_secs = epoch_time(start_time, end_time)\n",
    "    \n",
    "    if valid_loss < best_valid_loss:\n",
    "        best_valid_loss = valid_loss\n",
    "        torch.save(model.state_dict(), 'tut1-model.pt')\n",
    "    \n",
    "    print(f'Epoch: {epoch+1:02} | Time: {epoch_mins}m {epoch_secs}s')\n",
    "    print(f'\\tTrain Loss: {train_loss:.3f} | Train PPL: {math.exp(train_loss):7.3f}')\n",
    "    print(f'\\t Val. Loss: {valid_loss:.3f} |  Val. PPL: {math.exp(valid_loss):7.3f}')"
   ]
  },
  {
   "cell_type": "code",
   "execution_count": null,
   "metadata": {},
   "outputs": [],
   "source": []
  }
 ],
 "metadata": {
  "kernelspec": {
   "display_name": "Python 3",
   "language": "python",
   "name": "python3"
  },
  "language_info": {
   "codemirror_mode": {
    "name": "ipython",
    "version": 3
   },
   "file_extension": ".py",
   "mimetype": "text/x-python",
   "name": "python",
   "nbconvert_exporter": "python",
   "pygments_lexer": "ipython3",
   "version": "3.6.12"
  }
 },
 "nbformat": 4,
 "nbformat_minor": 2
}

{
 "cells": [
  {
   "cell_type": "code",
   "execution_count": 2,
   "metadata": {},
   "outputs": [],
   "source": [
    "import pandas as pd\n",
    "import scipy\n",
    "import numpy as np\n",
    "from classifier import accuracy, RandomForestClassifier, DecisionTreeClassifier\n",
    "from sklearn.ensemble import RandomForestClassifier as SKRFL\n",
    "\n",
    "# load data into dataframe\n",
    "trainX = pd.read_csv(\"MNIST_X_train.csv\")\n",
    "trainY = pd.read_csv(\"MNIST_y_train.csv\")\n",
    "testX = pd.read_csv(\"MNIST_X_test.csv\")\n",
    "testY = pd.read_csv(\"MNIST_y_test.csv\")\n",
    "\n",
    "nptrainX = trainX.to_numpy()\n",
    "nptrainY = trainY.to_numpy()\n",
    "nptestX = testX.to_numpy()\n",
    "nptestY = testY.to_numpy()"
   ]
  },
  {
   "cell_type": "code",
   "execution_count": 5,
   "metadata": {},
   "outputs": [
    {
     "name": "stderr",
     "output_type": "stream",
     "text": [
      "/Users/xiaoqi/miniconda3/envs/py37/lib/python3.7/site-packages/ipykernel_launcher.py:2: DataConversionWarning: A column-vector y was passed when a 1d array was expected. Please change the shape of y to (n_samples,), for example using ravel().\n",
      "  \n"
     ]
    },
    {
     "name": "stdout",
     "output_type": "stream",
     "text": [
      "The accuracy of sklearn random forest classifier is 92.60%\n"
     ]
    }
   ],
   "source": [
    "skrfl = SKRFL()\n",
    "skrfl.fit(nptrainX, nptrainY)\n",
    "score = skrfl.score(nptestX, nptestY)\n",
    "print(\"The accuracy of sklearn random forest classifier is {:.2f}%\".format(score*100))"
   ]
  },
  {
   "cell_type": "code",
   "execution_count": 6,
   "metadata": {},
   "outputs": [
    {
     "name": "stdout",
     "output_type": "stream",
     "text": [
      "The accuracy of my random forest classifier is 92.40%\n",
      "CPU times: user 9min 55s, sys: 10.3 s, total: 10min 6s\n",
      "Wall time: 10min 25s\n"
     ]
    }
   ],
   "source": [
    "%%time\n",
    "rfl = RandomForestClassifier(n_estimators = 400, min_samples_split = 10, max_features = \"log2\")\n",
    "rfl.fit(nptrainX, nptrainY)\n",
    "pred = rfl.predict(nptestX)\n",
    "score = accuracy(pred, nptestY)\n",
    "print(\"The accuracy of my random forest classifier is {:.2f}%\".format(score*100))"
   ]
  },
  {
   "cell_type": "code",
   "execution_count": null,
   "metadata": {},
   "outputs": [],
   "source": []
  }
 ],
 "metadata": {
  "kernelspec": {
   "display_name": "Python 3",
   "language": "python",
   "name": "python3"
  },
  "language_info": {
   "codemirror_mode": {
    "name": "ipython",
    "version": 3
   },
   "file_extension": ".py",
   "mimetype": "text/x-python",
   "name": "python",
   "nbconvert_exporter": "python",
   "pygments_lexer": "ipython3",
   "version": "3.7.7"
  }
 },
 "nbformat": 4,
 "nbformat_minor": 4
}

{
 "cells": [
  {
   "cell_type": "code",
   "execution_count": 1,
   "metadata": {},
   "outputs": [],
   "source": [
    "import pandas as pd\n",
    "import scipy\n",
    "import numpy as np\n",
    "from regressor import RandomForestRegressor, DecisionTreeRegressor, pcc\n",
    "from sklearn.ensemble import RandomForestRegressor as RFR\n",
    "\n",
    "# load data into dataframe\n",
    "trainX = pd.read_csv(\"airfoil_self_noise_X_train.csv\")\n",
    "trainY = pd.read_csv(\"airfoil_self_noise_y_train.csv\")\n",
    "testX = pd.read_csv(\"airfoil_self_noise_X_test.csv\")\n",
    "testY = pd.read_csv(\"airfoil_self_noise_y_test.csv\")\n",
    "\n",
    "nptrainX = trainX.to_numpy()\n",
    "nptrainY = trainY.to_numpy()\n",
    "nptestX = testX.to_numpy()\n",
    "nptestY = testY.to_numpy()"
   ]
  },
  {
   "cell_type": "code",
   "execution_count": 2,
   "metadata": {},
   "outputs": [
    {
     "name": "stdout",
     "output_type": "stream",
     "text": [
      "The RMSE is 9.08 and the PCC is 0.96\n",
      "CPU times: user 33.1 ms, sys: 3.95 ms, total: 37 ms\n",
      "Wall time: 53.1 ms\n"
     ]
    },
    {
     "name": "stderr",
     "output_type": "stream",
     "text": [
      "/Users/xiaoqi/miniconda3/envs/py37/lib/python3.7/site-packages/ipykernel_launcher.py:2: DataConversionWarning: A column-vector y was passed when a 1d array was expected. Please change the shape of y to (n_samples,), for example using ravel().\n",
      "  \n"
     ]
    }
   ],
   "source": [
    "%%time\n",
    "skrfr = RFR(n_estimators = 10, max_features='sqrt', max_depth = None)\n",
    "skrfr.fit(nptrainX, nptrainY)\n",
    "pred = skrfr.predict(nptestX)\n",
    "rmse = np.sqrt(np.mean((pred-nptestY)**2)) \n",
    "p = pcc(pred, nptestY)\n",
    "print(\"The RMSE is {:.2f} and the PCC is {:.2f}\".format(rmse, p[0,0]))"
   ]
  },
  {
   "cell_type": "code",
   "execution_count": 6,
   "metadata": {},
   "outputs": [
    {
     "name": "stdout",
     "output_type": "stream",
     "text": [
      "The RMSE is 2.33 and the PCC is 0.94\n",
      "CPU times: user 1.87 s, sys: 15.1 ms, total: 1.89 s\n",
      "Wall time: 1.93 s\n"
     ]
    }
   ],
   "source": [
    "%%time\n",
    "rfr = RandomForestRegressor(n_estimators = 10, max_features='sqrt', max_depth = None)\n",
    "rfr.fit(nptrainX, nptrainY)\n",
    "pred = rfr.predict(nptestX)\n",
    "rmse = np.sqrt(np.mean((pred-nptestY)**2)) \n",
    "p = pcc(pred, nptestY)\n",
    "print(\"The RMSE is {:.2f} and the PCC is {:.2f}\".format(rmse, p[0,0]))"
   ]
  },
  {
   "cell_type": "code",
   "execution_count": null,
   "metadata": {},
   "outputs": [],
   "source": []
  }
 ],
 "metadata": {
  "kernelspec": {
   "display_name": "Python 3",
   "language": "python",
   "name": "python3"
  },
  "language_info": {
   "codemirror_mode": {
    "name": "ipython",
    "version": 3
   },
   "file_extension": ".py",
   "mimetype": "text/x-python",
   "name": "python",
   "nbconvert_exporter": "python",
   "pygments_lexer": "ipython3",
   "version": "3.7.7"
  }
 },
 "nbformat": 4,
 "nbformat_minor": 4
}

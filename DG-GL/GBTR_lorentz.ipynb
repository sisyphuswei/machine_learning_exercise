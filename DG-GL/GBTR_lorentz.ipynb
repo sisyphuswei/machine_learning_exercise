{
 "cells": [
  {
   "cell_type": "code",
   "execution_count": 5,
   "metadata": {},
   "outputs": [],
   "source": [
    "#import feature_generator as fg\n",
    "import numpy as np\n",
    "import pandas as pd\n",
    "import glob\n",
    "import re\n",
    "from sklearn.ensemble import GradientBoostingRegressor\n",
    "from sklearn.metrics import mean_squared_error\n",
    "import scipy "
   ]
  },
  {
   "cell_type": "code",
   "execution_count": 10,
   "metadata": {},
   "outputs": [],
   "source": [
    "Xtrain = pd.read_csv('Xtrain_lorentz.csv', header = None, delimiter = ' ', float_precision='round_trip')\n",
    "Xtest = pd.read_csv('Xtest_lorentz.csv', header = None, delimiter = ' ', float_precision='round_trip')\n",
    "ytrain = pd.read_csv('ytrain_lorentz.csv', header = None, delimiter = ' ', float_precision='round_trip')\n",
    "ytest = pd.read_csv('ytest_lorentz.csv', header = None, delimiter = ' ', float_precision='round_trip')"
   ]
  },
  {
   "cell_type": "code",
   "execution_count": 11,
   "metadata": {},
   "outputs": [
    {
     "data": {
      "text/plain": [
       "49.75745820434655"
      ]
     },
     "execution_count": 11,
     "metadata": {},
     "output_type": "execute_result"
    }
   ],
   "source": [
    "Xtrain.iloc[0][0]"
   ]
  },
  {
   "cell_type": "code",
   "execution_count": 12,
   "metadata": {},
   "outputs": [],
   "source": [
    "Xtrain = Xtrain.to_numpy()\n",
    "Xtest = Xtest.to_numpy()\n",
    "ytrain = ytrain.to_numpy()\n",
    "ytest = ytest.to_numpy()\n",
    "#ytrain = np.ravel(ytrain)"
   ]
  },
  {
   "cell_type": "code",
   "execution_count": 14,
   "metadata": {},
   "outputs": [
    {
     "name": "stdout",
     "output_type": "stream",
     "text": [
      "The RMSE is 2.077 and the PCC is 0.787\n",
      "The RMSE is 2.116 and the PCC is 0.774\n",
      "The RMSE is 2.087 and the PCC is 0.782\n",
      "The RMSE is 2.130 and the PCC is 0.769\n",
      "The RMSE is 2.122 and the PCC is 0.771\n",
      "The RMSE is 2.099 and the PCC is 0.779\n",
      "The RMSE is 2.102 and the PCC is 0.777\n",
      "The RMSE is 2.115 and the PCC is 0.774\n",
      "The RMSE is 2.099 and the PCC is 0.778\n",
      "The RMSE is 2.118 and the PCC is 0.772\n"
     ]
    }
   ],
   "source": [
    "#0.778 2.131\n",
    "for i in range(10):\n",
    "    reg = GradientBoostingRegressor(n_estimators=10000, max_depth = 7, min_samples_split = 3, learning_rate = 0.01, loss = 'ls', subsample = 0.3, max_features = 'sqrt')\n",
    "    reg.fit(Xtrain, np.ravel(ytrain))\n",
    "    pred = reg.predict(Xtest)\n",
    "    R_P = scipy.stats.pearsonr(pred, np.ravel(ytest))\n",
    "    RMSE = np.sqrt(mean_squared_error(pred, np.ravel(ytest)))*1.3633\n",
    "    print(\"The RMSE is {:.3f} and the PCC is {:.3f}\".format(RMSE, R_P[0]))"
   ]
  },
  {
   "cell_type": "code",
   "execution_count": null,
   "metadata": {},
   "outputs": [],
   "source": []
  }
 ],
 "metadata": {
  "kernelspec": {
   "display_name": "Python 3",
   "language": "python",
   "name": "python3"
  },
  "language_info": {
   "codemirror_mode": {
    "name": "ipython",
    "version": 3
   },
   "file_extension": ".py",
   "mimetype": "text/x-python",
   "name": "python",
   "nbconvert_exporter": "python",
   "pygments_lexer": "ipython3",
   "version": "3.8.5"
  }
 },
 "nbformat": 4,
 "nbformat_minor": 4
}

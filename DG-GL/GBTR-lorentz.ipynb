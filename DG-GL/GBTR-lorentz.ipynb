{
 "cells": [
  {
   "cell_type": "code",
   "execution_count": 12,
   "metadata": {},
   "outputs": [],
   "source": [
    "import pandas as pd\n",
    "import numpy as np\n",
    "from sklearn.ensemble import GradientBoostingRegressor\n",
    "from sklearn.metrics import mean_squared_error\n",
    "import scipy "
   ]
  },
  {
   "cell_type": "code",
   "execution_count": 13,
   "metadata": {},
   "outputs": [],
   "source": [
    "Xtrain = pd.read_csv('Xtrain_lorentz.csv', header = None, delimiter = ' ', float_precision='round_trip')\n",
    "Xtest = pd.read_csv('Xtest_lorentz.csv', header = None, delimiter = ' ', float_precision='round_trip')\n",
    "ytrain = pd.read_csv('ytrain_lorentz.csv', header = None, delimiter = ' ', float_precision='round_trip')\n",
    "ytest = pd.read_csv('ytest_lorentz.csv', header = None, delimiter = ' ', float_precision='round_trip')"
   ]
  },
  {
   "cell_type": "code",
   "execution_count": 14,
   "metadata": {},
   "outputs": [],
   "source": [
    "Xtrain = Xtrain.to_numpy()\n",
    "Xtest = Xtest.to_numpy()\n",
    "ytrain = ytrain.to_numpy()\n",
    "ytest = ytest.to_numpy()"
   ]
  },
  {
   "cell_type": "code",
   "execution_count": 15,
   "metadata": {},
   "outputs": [
    {
     "name": "stdout",
     "output_type": "stream",
     "text": [
      "The RMSE is 2.066 and the PCC is 0.787\n",
      "The RMSE is 2.121 and the PCC is 0.770\n",
      "The RMSE is 2.070 and the PCC is 0.786\n",
      "The RMSE is 2.100 and the PCC is 0.779\n",
      "The RMSE is 2.122 and the PCC is 0.770\n",
      "The RMSE is 2.129 and the PCC is 0.770\n",
      "The RMSE is 2.078 and the PCC is 0.784\n",
      "The RMSE is 2.089 and the PCC is 0.780\n",
      "The RMSE is 2.079 and the PCC is 0.783\n",
      "The RMSE is 2.091 and the PCC is 0.782\n",
      "The RMSE is 2.134 and the PCC is 0.771\n",
      "The RMSE is 2.089 and the PCC is 0.787\n",
      "The RMSE is 2.073 and the PCC is 0.785\n",
      "The RMSE is 2.119 and the PCC is 0.773\n",
      "The RMSE is 2.115 and the PCC is 0.771\n",
      "The RMSE is 2.101 and the PCC is 0.776\n",
      "The RMSE is 2.109 and the PCC is 0.775\n",
      "The RMSE is 2.114 and the PCC is 0.775\n",
      "The RMSE is 2.099 and the PCC is 0.782\n",
      "The RMSE is 2.100 and the PCC is 0.780\n"
     ]
    },
    {
     "data": {
      "text/plain": [
       "0.7782003100407803"
      ]
     },
     "execution_count": 15,
     "metadata": {},
     "output_type": "execute_result"
    }
   ],
   "source": [
    "l = []\n",
    "for i in range(20):\n",
    "    reg = GradientBoostingRegressor(n_estimators=10000, max_depth = 7, min_samples_split = 3, learning_rate = 0.01, loss = 'ls', subsample = 0.3, max_features = 'sqrt')\n",
    "    reg.fit(Xtrain, np.ravel(ytrain))\n",
    "    pred = reg.predict(Xtest)\n",
    "    R_P = scipy.stats.pearsonr(pred, np.ravel(ytest))\n",
    "    RMSE = np.sqrt(mean_squared_error(pred, np.ravel(ytest)))*1.3633\n",
    "    l.append(R_P[0])\n",
    "    print(\"The RMSE is {:.3f} and the PCC is {:.3f}\".format(RMSE, R_P[0]))\n",
    "np.mean(l)"
   ]
  },
  {
   "cell_type": "code",
   "execution_count": null,
   "metadata": {},
   "outputs": [],
   "source": []
  }
 ],
 "metadata": {
  "kernelspec": {
   "display_name": "Python 3",
   "language": "python",
   "name": "python3"
  },
  "language_info": {
   "codemirror_mode": {
    "name": "ipython",
    "version": 3
   },
   "file_extension": ".py",
   "mimetype": "text/x-python",
   "name": "python",
   "nbconvert_exporter": "python",
   "pygments_lexer": "ipython3",
   "version": "3.8.5"
  }
 },
 "nbformat": 4,
 "nbformat_minor": 4
}

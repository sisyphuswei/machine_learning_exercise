{
 "cells": [
  {
   "cell_type": "code",
   "execution_count": 23,
   "metadata": {},
   "outputs": [],
   "source": [
    "import pandas as pd\n",
    "from sklearn.ensemble import GradientBoostingRegressor\n",
    "from sklearn.metrics import mean_squared_error\n",
    "import scipy "
   ]
  },
  {
   "cell_type": "code",
   "execution_count": 24,
   "metadata": {},
   "outputs": [],
   "source": [
    "Xtrain = pd.read_csv('Xtrain_1_1.01.csv', header = None, delimiter = ' ', float_precision='round_trip')\n",
    "Xtest = pd.read_csv('Xtest_1_1.01.csv', header = None, delimiter = ' ', float_precision='round_trip')\n",
    "ytrain = pd.read_csv('ytrain_1_1.01.csv', header = None, delimiter = ' ', float_precision='round_trip')\n",
    "ytest = pd.read_csv('ytest_1_1.01.csv', header = None, delimiter = ' ', float_precision='round_trip')"
   ]
  },
  {
   "cell_type": "code",
   "execution_count": 25,
   "metadata": {},
   "outputs": [],
   "source": [
    "Xtrain = Xtrain.to_numpy()\n",
    "Xtest = Xtest.to_numpy()\n",
    "ytrain = ytrain.to_numpy()\n",
    "ytest = ytest.to_numpy()\n"
   ]
  },
  {
   "cell_type": "code",
   "execution_count": 26,
   "metadata": {},
   "outputs": [
    {
     "name": "stdout",
     "output_type": "stream",
     "text": [
      "The RMSE is 1.999 and the PCC is 0.801\n",
      "The RMSE is 1.987 and the PCC is 0.807\n",
      "The RMSE is 2.002 and the PCC is 0.804\n",
      "The RMSE is 1.986 and the PCC is 0.807\n",
      "The RMSE is 1.992 and the PCC is 0.806\n",
      "The RMSE is 2.019 and the PCC is 0.797\n",
      "The RMSE is 2.022 and the PCC is 0.799\n",
      "The RMSE is 2.016 and the PCC is 0.803\n",
      "The RMSE is 2.001 and the PCC is 0.803\n",
      "The RMSE is 1.992 and the PCC is 0.806\n",
      "The RMSE is 2.025 and the PCC is 0.798\n",
      "The RMSE is 1.992 and the PCC is 0.805\n",
      "The RMSE is 1.994 and the PCC is 0.806\n",
      "The RMSE is 2.009 and the PCC is 0.800\n",
      "The RMSE is 1.984 and the PCC is 0.809\n",
      "The RMSE is 1.968 and the PCC is 0.814\n",
      "The RMSE is 2.026 and the PCC is 0.795\n",
      "The RMSE is 2.031 and the PCC is 0.796\n",
      "The RMSE is 1.980 and the PCC is 0.811\n",
      "The RMSE is 2.035 and the PCC is 0.795\n"
     ]
    },
    {
     "data": {
      "text/plain": [
       "0.8032029816066586"
      ]
     },
     "execution_count": 26,
     "metadata": {},
     "output_type": "execute_result"
    }
   ],
   "source": [
    "#0.802 2.069\n",
    "l = []\n",
    "for i in range(20):\n",
    "    reg = GradientBoostingRegressor(n_estimators=10000, max_depth = 7, min_samples_split = 3, learning_rate = 0.01, loss = 'ls', subsample = 0.3, max_features = 'sqrt')\n",
    "    reg.fit(Xtrain, np.ravel(ytrain))\n",
    "    pred = reg.predict(Xtest)\n",
    "    R_P = scipy.stats.pearsonr(pred, np.ravel(ytest))\n",
    "    RMSE = np.sqrt(mean_squared_error(pred, np.ravel(ytest)))*1.3633\n",
    "    print(\"The RMSE is {:.3f} and the PCC is {:.3f}\".format(RMSE, R_P[0]))\n",
    "    l.append(R_P[0])\n",
    "np.mean(l)"
   ]
  },
  {
   "cell_type": "code",
   "execution_count": null,
   "metadata": {},
   "outputs": [],
   "source": []
  }
 ],
 "metadata": {
  "kernelspec": {
   "display_name": "Python 3",
   "language": "python",
   "name": "python3"
  },
  "language_info": {
   "codemirror_mode": {
    "name": "ipython",
    "version": 3
   },
   "file_extension": ".py",
   "mimetype": "text/x-python",
   "name": "python",
   "nbconvert_exporter": "python",
   "pygments_lexer": "ipython3",
   "version": "3.8.5"
  }
 },
 "nbformat": 4,
 "nbformat_minor": 4
}

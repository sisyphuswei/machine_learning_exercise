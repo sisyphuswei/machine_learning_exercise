{
 "cells": [
  {
   "cell_type": "code",
   "execution_count": 3,
   "metadata": {},
   "outputs": [
    {
     "name": "stdout",
     "output_type": "stream",
     "text": [
      "The shape of Xtrain is (2000, 784)\n",
      "The shape of Xtest is (500, 784)\n"
     ]
    }
   ],
   "source": [
    "# Simple smo algorithm for SVM. \n",
    "# The results of each running may be different due to random selection inside simple smo algorithm.\n",
    "import numpy as np\n",
    "import pandas as pd\n",
    "import matplotlib.pyplot as plt\n",
    "import utility\n",
    "\n",
    "Xtrain = pd.read_csv(\"MNIST_X_train.csv\")\n",
    "ytrain = pd.read_csv(\"MNIST_Y_train.csv\")\n",
    "Xtest = pd.read_csv(\"MNIST_X_test.csv\")\n",
    "ytest = pd.read_csv(\"MNIST_Y_test.csv\")\n",
    "npXtrain = Xtrain.to_numpy()\n",
    "npytrain = ytrain.to_numpy()\n",
    "npXtest = Xtest.to_numpy()\n",
    "npytest = ytest.to_numpy()\n",
    "print(\"The shape of Xtrain is {}\".format(Xtrain.shape))\n",
    "print(\"The shape of Xtest is {}\".format(Xtest.shape))\n",
    "# Feature scaling\n",
    "mean = np.mean(npXtrain, axis=0).reshape((1, npXtrain.shape[1]))\n",
    "std = np.std(npXtrain, axis=0).reshape((1, npXtrain.shape[1]))\n",
    "scaled_Xtrain = utility.scaler(npXtrain, mean, std)\n",
    "scaled_Xtest = utility.scaler(npXtest, mean, std)"
   ]
  },
  {
   "cell_type": "code",
   "execution_count": 4,
   "metadata": {},
   "outputs": [
    {
     "name": "stdout",
     "output_type": "stream",
     "text": [
      "Training class 0 vs class 1 is complete. The training accuracy is 100.00%\n",
      "Training class 0 vs class 2 is complete. The training accuracy is 100.00%\n",
      "Training class 0 vs class 3 is complete. The training accuracy is 100.00%\n",
      "Training class 0 vs class 4 is complete. The training accuracy is 100.00%\n",
      "Training class 0 vs class 5 is complete. The training accuracy is 100.00%\n",
      "Training class 0 vs class 6 is complete. The training accuracy is 100.00%\n",
      "Training class 0 vs class 7 is complete. The training accuracy is 100.00%\n",
      "Training class 0 vs class 8 is complete. The training accuracy is 100.00%\n",
      "Training class 0 vs class 9 is complete. The training accuracy is 100.00%\n",
      "Training class 1 vs class 2 is complete. The training accuracy is 100.00%\n",
      "Training class 1 vs class 3 is complete. The training accuracy is 100.00%\n",
      "Training class 1 vs class 4 is complete. The training accuracy is 100.00%\n",
      "Training class 1 vs class 5 is complete. The training accuracy is 100.00%\n",
      "Training class 1 vs class 6 is complete. The training accuracy is 100.00%\n",
      "Training class 1 vs class 7 is complete. The training accuracy is 100.00%\n",
      "Training class 1 vs class 8 is complete. The training accuracy is 100.00%\n",
      "Training class 1 vs class 9 is complete. The training accuracy is 100.00%\n",
      "Training class 2 vs class 3 is complete. The training accuracy is 100.00%\n",
      "Training class 2 vs class 4 is complete. The training accuracy is 100.00%\n",
      "Training class 2 vs class 5 is complete. The training accuracy is 100.00%\n",
      "Training class 2 vs class 6 is complete. The training accuracy is 100.00%\n",
      "Training class 2 vs class 7 is complete. The training accuracy is 100.00%\n",
      "Training class 2 vs class 8 is complete. The training accuracy is 100.00%\n",
      "Training class 2 vs class 9 is complete. The training accuracy is 100.00%\n",
      "Training class 3 vs class 4 is complete. The training accuracy is 100.00%\n",
      "Training class 3 vs class 5 is complete. The training accuracy is 100.00%\n",
      "Training class 3 vs class 6 is complete. The training accuracy is 100.00%\n",
      "Training class 3 vs class 7 is complete. The training accuracy is 100.00%\n",
      "Training class 3 vs class 8 is complete. The training accuracy is 100.00%\n",
      "Training class 3 vs class 9 is complete. The training accuracy is 100.00%\n",
      "Training class 4 vs class 5 is complete. The training accuracy is 100.00%\n",
      "Training class 4 vs class 6 is complete. The training accuracy is 100.00%\n",
      "Training class 4 vs class 7 is complete. The training accuracy is 100.00%\n",
      "Training class 4 vs class 8 is complete. The training accuracy is 100.00%\n",
      "Training class 4 vs class 9 is complete. The training accuracy is 100.00%\n",
      "Training class 5 vs class 6 is complete. The training accuracy is 100.00%\n",
      "Training class 5 vs class 7 is complete. The training accuracy is 100.00%\n",
      "Training class 5 vs class 8 is complete. The training accuracy is 100.00%\n",
      "Training class 5 vs class 9 is complete. The training accuracy is 100.00%\n",
      "Training class 6 vs class 7 is complete. The training accuracy is 100.00%\n",
      "Training class 6 vs class 8 is complete. The training accuracy is 100.00%\n",
      "Training class 6 vs class 9 is complete. The training accuracy is 100.00%\n",
      "Training class 7 vs class 8 is complete. The training accuracy is 100.00%\n",
      "Training class 7 vs class 9 is complete. The training accuracy is 100.00%\n",
      "Training class 8 vs class 9 is complete. The training accuracy is 100.00%\n",
      "Using linear kernel, the accuracy of multiclass classification is 89.60%\n"
     ]
    }
   ],
   "source": [
    "# linear kernel\n",
    "dataList = [scaled_Xtrain[np.where(npytrain == i)[0]] for i in range(10)]       \n",
    "clfMat = np.zeros((10,10), dtype=object) # objects are SVM classifier\n",
    "# one vs one approach\n",
    "for i in range(10):\n",
    "    for j in range(10):\n",
    "        if j > i:\n",
    "            # prepare data and target for i vs j\n",
    "            targetI = np.ones(dataList[i].shape[0]).reshape((-1,1))\n",
    "            targetJ = -np.ones(dataList[j].shape[0]).reshape((-1,1))\n",
    "            data = np.vstack((dataList[i], dataList[j]))\n",
    "            target = np.vstack((targetI, targetJ))\n",
    "            # Train class i vs class j\n",
    "            clfMat[i,j] = utility.SVM(kernel = \"linear\", iterations = 50)\n",
    "            clfMat[i,j].fit(data, target)\n",
    "            # compute training accuracy\n",
    "            predLabelsIJ = clfMat[i,j].predict(data)\n",
    "            scoreIJ = utility.accuracy(target, predLabelsIJ)\n",
    "            print(\"Training class {} vs class {} is complete. The training accuracy is {:.2f}%\".format(i,j,scoreIJ*100))\n",
    "\n",
    "predLabels = np.zeros(npytest.shape[0]).reshape((-1, 1))\n",
    "# one vs one classification\n",
    "for ind in np.arange(npytest.shape[0]):\n",
    "    OvOlabel_list = np.zeros(10)\n",
    "    for i in range(9):\n",
    "        for j in range(10):\n",
    "            if j > i:\n",
    "                if clfMat[i,j].predict(scaled_Xtest[ind,:].reshape(1,-1)) == 1:\n",
    "                    OvOlabel_list[i] += 1\n",
    "                else:\n",
    "                    OvOlabel_list[j] += 1\n",
    "    # end for\n",
    "    predLabels[ind, 0] = np.argmax(OvOlabel_list) \n",
    "\n",
    "score = utility.accuracy(npytest, predLabels)\n",
    "print(\"Using linear kernel, the accuracy of multiclass classification is {:.2f}%\".format(score*100))   "
   ]
  },
  {
   "cell_type": "code",
   "execution_count": 5,
   "metadata": {},
   "outputs": [
    {
     "name": "stdout",
     "output_type": "stream",
     "text": [
      "Training class 0 vs class 1 is complete. The training accuracy is 97.52%\n",
      "Training class 0 vs class 2 is complete. The training accuracy is 100.00%\n",
      "Training class 0 vs class 3 is complete. The training accuracy is 99.76%\n",
      "Training class 0 vs class 4 is complete. The training accuracy is 100.00%\n",
      "Training class 0 vs class 5 is complete. The training accuracy is 100.00%\n",
      "Training class 0 vs class 6 is complete. The training accuracy is 100.00%\n",
      "Training class 0 vs class 7 is complete. The training accuracy is 100.00%\n",
      "Training class 0 vs class 8 is complete. The training accuracy is 100.00%\n",
      "Training class 0 vs class 9 is complete. The training accuracy is 100.00%\n",
      "Training class 1 vs class 2 is complete. The training accuracy is 100.00%\n",
      "Training class 1 vs class 3 is complete. The training accuracy is 99.77%\n",
      "Training class 1 vs class 4 is complete. The training accuracy is 100.00%\n",
      "Training class 1 vs class 5 is complete. The training accuracy is 100.00%\n",
      "Training class 1 vs class 6 is complete. The training accuracy is 100.00%\n",
      "Training class 1 vs class 7 is complete. The training accuracy is 100.00%\n",
      "Training class 1 vs class 8 is complete. The training accuracy is 100.00%\n",
      "Training class 1 vs class 9 is complete. The training accuracy is 100.00%\n",
      "Training class 2 vs class 3 is complete. The training accuracy is 99.76%\n",
      "Training class 2 vs class 4 is complete. The training accuracy is 100.00%\n",
      "Training class 2 vs class 5 is complete. The training accuracy is 100.00%\n",
      "Training class 2 vs class 6 is complete. The training accuracy is 100.00%\n",
      "Training class 2 vs class 7 is complete. The training accuracy is 100.00%\n",
      "Training class 2 vs class 8 is complete. The training accuracy is 100.00%\n",
      "Training class 2 vs class 9 is complete. The training accuracy is 100.00%\n",
      "Training class 3 vs class 4 is complete. The training accuracy is 100.00%\n",
      "Training class 3 vs class 5 is complete. The training accuracy is 100.00%\n",
      "Training class 3 vs class 6 is complete. The training accuracy is 100.00%\n",
      "Training class 3 vs class 7 is complete. The training accuracy is 100.00%\n",
      "Training class 3 vs class 8 is complete. The training accuracy is 100.00%\n",
      "Training class 3 vs class 9 is complete. The training accuracy is 100.00%\n",
      "Training class 4 vs class 5 is complete. The training accuracy is 100.00%\n",
      "Training class 4 vs class 6 is complete. The training accuracy is 100.00%\n",
      "Training class 4 vs class 7 is complete. The training accuracy is 100.00%\n",
      "Training class 4 vs class 8 is complete. The training accuracy is 100.00%\n",
      "Training class 4 vs class 9 is complete. The training accuracy is 100.00%\n",
      "Training class 5 vs class 6 is complete. The training accuracy is 100.00%\n",
      "Training class 5 vs class 7 is complete. The training accuracy is 100.00%\n",
      "Training class 5 vs class 8 is complete. The training accuracy is 100.00%\n",
      "Training class 5 vs class 9 is complete. The training accuracy is 100.00%\n",
      "Training class 6 vs class 7 is complete. The training accuracy is 100.00%\n",
      "Training class 6 vs class 8 is complete. The training accuracy is 100.00%\n",
      "Training class 6 vs class 9 is complete. The training accuracy is 100.00%\n",
      "Training class 7 vs class 8 is complete. The training accuracy is 100.00%\n",
      "Training class 7 vs class 9 is complete. The training accuracy is 100.00%\n",
      "Training class 8 vs class 9 is complete. The training accuracy is 100.00%\n",
      "Using poly kernel, the accuracy of multiclass classification is 90.40%\n"
     ]
    }
   ],
   "source": [
    "# poly kernel\n",
    "dataList = [scaled_Xtrain[np.where(npytrain == i)[0]] for i in range(10)]       \n",
    "clfMat = np.zeros((10,10), dtype=object) # objects are SVM classifier\n",
    "# one vs one approach\n",
    "for i in range(10):\n",
    "    for j in range(10):\n",
    "        if j > i:\n",
    "            # prepare data and target for i vs j\n",
    "            targetI = np.ones(dataList[i].shape[0]).reshape((-1,1))\n",
    "            targetJ = -np.ones(dataList[j].shape[0]).reshape((-1,1))\n",
    "            data = np.vstack((dataList[i], dataList[j]))\n",
    "            target = np.vstack((targetI, targetJ))\n",
    "            # Train class i vs class j\n",
    "            clfMat[i,j] = utility.SVM(kernel = \"poly\", gamma = 1, iterations = 50)\n",
    "            clfMat[i,j].fit(data, target)\n",
    "            # compute training accuracy\n",
    "            predLabelsIJ = clfMat[i,j].predict(data)\n",
    "            scoreIJ = utility.accuracy(target, predLabelsIJ)\n",
    "            print(\"Training class {} vs class {} is complete. The training accuracy is {:.2f}%\".format(i,j,scoreIJ*100))\n",
    "\n",
    "predLabels = np.zeros(npytest.shape[0]).reshape((-1, 1))\n",
    "# one vs one classification\n",
    "for ind in np.arange(npytest.shape[0]):\n",
    "    OvOlabel_list = np.zeros(10)\n",
    "    for i in range(9):\n",
    "        for j in range(10):\n",
    "            if j > i:\n",
    "                if clfMat[i,j].predict(scaled_Xtest[ind,:].reshape(1,-1)) == 1:\n",
    "                    OvOlabel_list[i] += 1\n",
    "                else:\n",
    "                    OvOlabel_list[j] += 1\n",
    "    # end for\n",
    "    predLabels[ind, 0] = np.argmax(OvOlabel_list) \n",
    "\n",
    "score = utility.accuracy(npytest, predLabels)\n",
    "print(\"Using poly kernel, the accuracy of multiclass classification is {:.2f}%\".format(score*100))  "
   ]
  },
  {
   "cell_type": "code",
   "execution_count": 6,
   "metadata": {},
   "outputs": [
    {
     "name": "stdout",
     "output_type": "stream",
     "text": [
      "Training class 0 vs class 1 is complete. The training accuracy is 100.00%\n",
      "Training class 0 vs class 2 is complete. The training accuracy is 100.00%\n",
      "Training class 0 vs class 3 is complete. The training accuracy is 100.00%\n",
      "Training class 0 vs class 4 is complete. The training accuracy is 100.00%\n",
      "Training class 0 vs class 5 is complete. The training accuracy is 99.74%\n",
      "Training class 0 vs class 6 is complete. The training accuracy is 100.00%\n",
      "Training class 0 vs class 7 is complete. The training accuracy is 100.00%\n",
      "Training class 0 vs class 8 is complete. The training accuracy is 99.74%\n",
      "Training class 0 vs class 9 is complete. The training accuracy is 100.00%\n",
      "Training class 1 vs class 2 is complete. The training accuracy is 99.55%\n",
      "Training class 1 vs class 3 is complete. The training accuracy is 98.86%\n",
      "Training class 1 vs class 4 is complete. The training accuracy is 99.54%\n",
      "Training class 1 vs class 5 is complete. The training accuracy is 99.76%\n",
      "Training class 1 vs class 6 is complete. The training accuracy is 100.00%\n",
      "Training class 1 vs class 7 is complete. The training accuracy is 99.78%\n",
      "Training class 1 vs class 8 is complete. The training accuracy is 99.75%\n",
      "Training class 1 vs class 9 is complete. The training accuracy is 100.00%\n",
      "Training class 2 vs class 3 is complete. The training accuracy is 98.80%\n",
      "Training class 2 vs class 4 is complete. The training accuracy is 99.76%\n",
      "Training class 2 vs class 5 is complete. The training accuracy is 100.00%\n",
      "Training class 2 vs class 6 is complete. The training accuracy is 100.00%\n",
      "Training class 2 vs class 7 is complete. The training accuracy is 99.76%\n",
      "Training class 2 vs class 8 is complete. The training accuracy is 99.22%\n",
      "Training class 2 vs class 9 is complete. The training accuracy is 100.00%\n",
      "Training class 3 vs class 4 is complete. The training accuracy is 99.50%\n",
      "Training class 3 vs class 5 is complete. The training accuracy is 99.48%\n",
      "Training class 3 vs class 6 is complete. The training accuracy is 99.75%\n",
      "Training class 3 vs class 7 is complete. The training accuracy is 99.76%\n",
      "Training class 3 vs class 8 is complete. The training accuracy is 98.93%\n",
      "Training class 3 vs class 9 is complete. The training accuracy is 99.23%\n",
      "Training class 4 vs class 5 is complete. The training accuracy is 100.00%\n",
      "Training class 4 vs class 6 is complete. The training accuracy is 99.74%\n",
      "Training class 4 vs class 7 is complete. The training accuracy is 99.02%\n",
      "Training class 4 vs class 8 is complete. The training accuracy is 99.73%\n",
      "Training class 4 vs class 9 is complete. The training accuracy is 98.69%\n",
      "Training class 5 vs class 6 is complete. The training accuracy is 99.73%\n",
      "Training class 5 vs class 7 is complete. The training accuracy is 100.00%\n",
      "Training class 5 vs class 8 is complete. The training accuracy is 98.87%\n",
      "Training class 5 vs class 9 is complete. The training accuracy is 99.73%\n",
      "Training class 6 vs class 7 is complete. The training accuracy is 99.75%\n",
      "Training class 6 vs class 8 is complete. The training accuracy is 99.73%\n",
      "Training class 6 vs class 9 is complete. The training accuracy is 100.00%\n",
      "Training class 7 vs class 8 is complete. The training accuracy is 100.00%\n",
      "Training class 7 vs class 9 is complete. The training accuracy is 97.98%\n",
      "Training class 8 vs class 9 is complete. The training accuracy is 99.44%\n",
      "Using rbf kernel, the accuracy of multiclass classification is 90.40%\n"
     ]
    }
   ],
   "source": [
    "# rbf kernel\n",
    "dataList = [scaled_Xtrain[np.where(npytrain == i)[0]] for i in range(10)]       \n",
    "clfMat = np.zeros((10,10), dtype=object) # objects are SVM classifier\n",
    "# one vs one approach\n",
    "for i in range(10):\n",
    "    for j in range(10):\n",
    "        if j > i:\n",
    "            # prepare data and target for i vs j\n",
    "            targetI = np.ones(dataList[i].shape[0]).reshape((-1,1))\n",
    "            targetJ = -np.ones(dataList[j].shape[0]).reshape((-1,1))\n",
    "            data = np.vstack((dataList[i], dataList[j]))\n",
    "            target = np.vstack((targetI, targetJ))\n",
    "            # Train class i vs class j\n",
    "            clfMat[i,j] = utility.SVM(kernel = \"rbf\", iterations = 20)\n",
    "            clfMat[i,j].fit(data, target)\n",
    "            # compute training accuracy\n",
    "            predLabelsIJ = clfMat[i,j].predict(data)\n",
    "            scoreIJ = utility.accuracy(target, predLabelsIJ)\n",
    "            print(\"Training class {} vs class {} is complete. The training accuracy is {:.2f}%\".format(i,j,scoreIJ*100))\n",
    "\n",
    "predLabels = np.zeros(npytest.shape[0]).reshape((-1, 1))\n",
    "# one vs one classification\n",
    "for ind in np.arange(npytest.shape[0]):\n",
    "    OvOlabel_list = np.zeros(10)\n",
    "    for i in range(9):\n",
    "        for j in range(10):\n",
    "            if j > i:\n",
    "                if clfMat[i,j].predict(scaled_Xtest[ind,:].reshape(1,-1)) == 1:\n",
    "                    OvOlabel_list[i] += 1\n",
    "                else:\n",
    "                    OvOlabel_list[j] += 1\n",
    "    # end for\n",
    "    predLabels[ind, 0] = np.argmax(OvOlabel_list) \n",
    "\n",
    "score = utility.accuracy(npytest, predLabels)\n",
    "print(\"Using rbf kernel, the accuracy of multiclass classification is {:.2f}%\".format(score*100))  "
   ]
  },
  {
   "cell_type": "code",
   "execution_count": 7,
   "metadata": {},
   "outputs": [
    {
     "name": "stdout",
     "output_type": "stream",
     "text": [
      "Training class 0 vs class 1 is complete. The training accuracy is 100.00%\n",
      "Training class 0 vs class 2 is complete. The training accuracy is 98.10%\n",
      "Training class 0 vs class 3 is complete. The training accuracy is 98.30%\n",
      "Training class 0 vs class 4 is complete. The training accuracy is 99.75%\n",
      "Training class 0 vs class 5 is complete. The training accuracy is 98.71%\n",
      "Training class 0 vs class 6 is complete. The training accuracy is 99.00%\n",
      "Training class 0 vs class 7 is complete. The training accuracy is 99.76%\n",
      "Training class 0 vs class 8 is complete. The training accuracy is 98.94%\n",
      "Training class 0 vs class 9 is complete. The training accuracy is 99.49%\n",
      "Training class 1 vs class 2 is complete. The training accuracy is 98.89%\n",
      "Training class 1 vs class 3 is complete. The training accuracy is 98.64%\n",
      "Training class 1 vs class 4 is complete. The training accuracy is 99.77%\n",
      "Training class 1 vs class 5 is complete. The training accuracy is 99.76%\n",
      "Training class 1 vs class 6 is complete. The training accuracy is 100.00%\n",
      "Training class 1 vs class 7 is complete. The training accuracy is 99.33%\n",
      "Training class 1 vs class 8 is complete. The training accuracy is 99.02%\n",
      "Training class 1 vs class 9 is complete. The training accuracy is 99.76%\n",
      "Training class 2 vs class 3 is complete. The training accuracy is 96.16%\n",
      "Training class 2 vs class 4 is complete. The training accuracy is 98.54%\n",
      "Training class 2 vs class 5 is complete. The training accuracy is 98.73%\n",
      "Training class 2 vs class 6 is complete. The training accuracy is 95.81%\n",
      "Training class 2 vs class 7 is complete. The training accuracy is 98.82%\n",
      "Training class 2 vs class 8 is complete. The training accuracy is 96.61%\n",
      "Training class 2 vs class 9 is complete. The training accuracy is 98.74%\n",
      "Training class 3 vs class 4 is complete. The training accuracy is 98.51%\n",
      "Training class 3 vs class 5 is complete. The training accuracy is 96.37%\n",
      "Training class 3 vs class 6 is complete. The training accuracy is 98.99%\n",
      "Training class 3 vs class 7 is complete. The training accuracy is 98.56%\n",
      "Training class 3 vs class 8 is complete. The training accuracy is 95.20%\n",
      "Training class 3 vs class 9 is complete. The training accuracy is 97.94%\n",
      "Training class 4 vs class 5 is complete. The training accuracy is 99.74%\n",
      "Training class 4 vs class 6 is complete. The training accuracy is 99.49%\n",
      "Training class 4 vs class 7 is complete. The training accuracy is 98.29%\n",
      "Training class 4 vs class 8 is complete. The training accuracy is 99.19%\n",
      "Training class 4 vs class 9 is complete. The training accuracy is 95.03%\n",
      "Training class 5 vs class 6 is complete. The training accuracy is 98.93%\n",
      "Training class 5 vs class 7 is complete. The training accuracy is 100.00%\n",
      "Training class 5 vs class 8 is complete. The training accuracy is 94.33%\n",
      "Training class 5 vs class 9 is complete. The training accuracy is 99.18%\n",
      "Training class 6 vs class 7 is complete. The training accuracy is 99.75%\n",
      "Training class 6 vs class 8 is complete. The training accuracy is 98.63%\n",
      "Training class 6 vs class 9 is complete. The training accuracy is 99.73%\n",
      "Training class 7 vs class 8 is complete. The training accuracy is 98.96%\n",
      "Training class 7 vs class 9 is complete. The training accuracy is 94.44%\n",
      "Training class 8 vs class 9 is complete. The training accuracy is 97.75%\n",
      "Using sigmoid kernel, the accuracy of multiclass classification is 90.80%\n"
     ]
    }
   ],
   "source": [
    "# sigmoid\n",
    "dataList = [scaled_Xtrain[np.where(npytrain == i)[0]] for i in range(10)]       \n",
    "clfMat = np.zeros((10,10), dtype=object) # objects are SVM classifier\n",
    "# one vs one approach\n",
    "for i in range(10):\n",
    "    for j in range(10):\n",
    "        if j > i:\n",
    "            # prepare data and target for i vs j\n",
    "            targetI = np.ones(dataList[i].shape[0]).reshape((-1,1))\n",
    "            targetJ = -np.ones(dataList[j].shape[0]).reshape((-1,1))\n",
    "            data = np.vstack((dataList[i], dataList[j]))\n",
    "            target = np.vstack((targetI, targetJ))\n",
    "            # Train class i vs class j\n",
    "            clfMat[i,j] = utility.SVM(kernel = \"sigmoid\", iterations = 20)\n",
    "            clfMat[i,j].fit(data, target)\n",
    "            # compute training accuracy\n",
    "            predLabelsIJ = clfMat[i,j].predict(data)\n",
    "            scoreIJ = utility.accuracy(target, predLabelsIJ)\n",
    "            print(\"Training class {} vs class {} is complete. The training accuracy is {:.2f}%\".format(i,j,scoreIJ*100))\n",
    "\n",
    "predLabels = np.zeros(npytest.shape[0]).reshape((-1, 1))\n",
    "# one vs one classification\n",
    "for ind in np.arange(npytest.shape[0]):\n",
    "    OvOlabel_list = np.zeros(10)\n",
    "    for i in range(9):\n",
    "        for j in range(10):\n",
    "            if j > i:\n",
    "                if clfMat[i,j].predict(scaled_Xtest[ind,:].reshape(1,-1)) == 1:\n",
    "                    OvOlabel_list[i] += 1\n",
    "                else:\n",
    "                    OvOlabel_list[j] += 1\n",
    "    # end for\n",
    "    predLabels[ind, 0] = np.argmax(OvOlabel_list) \n",
    "\n",
    "score = utility.accuracy(npytest, predLabels)\n",
    "print(\"Using sigmoid kernel, the accuracy of multiclass classification is {:.2f}%\".format(score*100))  "
   ]
  },
  {
   "cell_type": "code",
   "execution_count": 10,
   "metadata": {},
   "outputs": [
    {
     "name": "stdout",
     "output_type": "stream",
     "text": [
      "[1 2 3]\n"
     ]
    }
   ],
   "source": [
    "import numpy as np\n",
    "A = np.array([1,2,3])\n",
    "print(A.T)"
   ]
  },
  {
   "cell_type": "code",
   "execution_count": 11,
   "metadata": {},
   "outputs": [
    {
     "data": {
      "text/plain": [
       "14"
      ]
     },
     "execution_count": 11,
     "metadata": {},
     "output_type": "execute_result"
    }
   ],
   "source": [
    "np.dot(A, A)"
   ]
  },
  {
   "cell_type": "code",
   "execution_count": 7,
   "metadata": {},
   "outputs": [
    {
     "data": {
      "text/plain": [
       "array([6., 6., 6.])"
      ]
     },
     "execution_count": 7,
     "metadata": {},
     "output_type": "execute_result"
    }
   ],
   "source": [
    "np.dot(B,A)"
   ]
  },
  {
   "cell_type": "code",
   "execution_count": 8,
   "metadata": {},
   "outputs": [
    {
     "data": {
      "text/plain": [
       "array([6., 6., 6.])"
      ]
     },
     "execution_count": 8,
     "metadata": {},
     "output_type": "execute_result"
    }
   ],
   "source": [
    "np.dot(A, B)"
   ]
  },
  {
   "cell_type": "code",
   "execution_count": 9,
   "metadata": {},
   "outputs": [
    {
     "ename": "LinAlgError",
     "evalue": "Singular matrix",
     "output_type": "error",
     "traceback": [
      "\u001b[0;31m---------------------------------------------------------------------------\u001b[0m",
      "\u001b[0;31mLinAlgError\u001b[0m                               Traceback (most recent call last)",
      "\u001b[0;32m<ipython-input-9-28ddc52c733a>\u001b[0m in \u001b[0;36m<module>\u001b[0;34m\u001b[0m\n\u001b[0;32m----> 1\u001b[0;31m \u001b[0mnp\u001b[0m\u001b[0;34m.\u001b[0m\u001b[0mlinalg\u001b[0m\u001b[0;34m.\u001b[0m\u001b[0minv\u001b[0m\u001b[0;34m(\u001b[0m\u001b[0mB\u001b[0m\u001b[0;34m)\u001b[0m\u001b[0;34m\u001b[0m\u001b[0;34m\u001b[0m\u001b[0m\n\u001b[0m",
      "\u001b[0;32m<__array_function__ internals>\u001b[0m in \u001b[0;36minv\u001b[0;34m(*args, **kwargs)\u001b[0m\n",
      "\u001b[0;32m~/miniconda3/envs/py37/lib/python3.7/site-packages/numpy/linalg/linalg.py\u001b[0m in \u001b[0;36minv\u001b[0;34m(a)\u001b[0m\n\u001b[1;32m    545\u001b[0m     \u001b[0msignature\u001b[0m \u001b[0;34m=\u001b[0m \u001b[0;34m'D->D'\u001b[0m \u001b[0;32mif\u001b[0m \u001b[0misComplexType\u001b[0m\u001b[0;34m(\u001b[0m\u001b[0mt\u001b[0m\u001b[0;34m)\u001b[0m \u001b[0;32melse\u001b[0m \u001b[0;34m'd->d'\u001b[0m\u001b[0;34m\u001b[0m\u001b[0;34m\u001b[0m\u001b[0m\n\u001b[1;32m    546\u001b[0m     \u001b[0mextobj\u001b[0m \u001b[0;34m=\u001b[0m \u001b[0mget_linalg_error_extobj\u001b[0m\u001b[0;34m(\u001b[0m\u001b[0m_raise_linalgerror_singular\u001b[0m\u001b[0;34m)\u001b[0m\u001b[0;34m\u001b[0m\u001b[0;34m\u001b[0m\u001b[0m\n\u001b[0;32m--> 547\u001b[0;31m     \u001b[0mainv\u001b[0m \u001b[0;34m=\u001b[0m \u001b[0m_umath_linalg\u001b[0m\u001b[0;34m.\u001b[0m\u001b[0minv\u001b[0m\u001b[0;34m(\u001b[0m\u001b[0ma\u001b[0m\u001b[0;34m,\u001b[0m \u001b[0msignature\u001b[0m\u001b[0;34m=\u001b[0m\u001b[0msignature\u001b[0m\u001b[0;34m,\u001b[0m \u001b[0mextobj\u001b[0m\u001b[0;34m=\u001b[0m\u001b[0mextobj\u001b[0m\u001b[0;34m)\u001b[0m\u001b[0;34m\u001b[0m\u001b[0;34m\u001b[0m\u001b[0m\n\u001b[0m\u001b[1;32m    548\u001b[0m     \u001b[0;32mreturn\u001b[0m \u001b[0mwrap\u001b[0m\u001b[0;34m(\u001b[0m\u001b[0mainv\u001b[0m\u001b[0;34m.\u001b[0m\u001b[0mastype\u001b[0m\u001b[0;34m(\u001b[0m\u001b[0mresult_t\u001b[0m\u001b[0;34m,\u001b[0m \u001b[0mcopy\u001b[0m\u001b[0;34m=\u001b[0m\u001b[0;32mFalse\u001b[0m\u001b[0;34m)\u001b[0m\u001b[0;34m)\u001b[0m\u001b[0;34m\u001b[0m\u001b[0;34m\u001b[0m\u001b[0m\n\u001b[1;32m    549\u001b[0m \u001b[0;34m\u001b[0m\u001b[0m\n",
      "\u001b[0;32m~/miniconda3/envs/py37/lib/python3.7/site-packages/numpy/linalg/linalg.py\u001b[0m in \u001b[0;36m_raise_linalgerror_singular\u001b[0;34m(err, flag)\u001b[0m\n\u001b[1;32m     95\u001b[0m \u001b[0;34m\u001b[0m\u001b[0m\n\u001b[1;32m     96\u001b[0m \u001b[0;32mdef\u001b[0m \u001b[0m_raise_linalgerror_singular\u001b[0m\u001b[0;34m(\u001b[0m\u001b[0merr\u001b[0m\u001b[0;34m,\u001b[0m \u001b[0mflag\u001b[0m\u001b[0;34m)\u001b[0m\u001b[0;34m:\u001b[0m\u001b[0;34m\u001b[0m\u001b[0;34m\u001b[0m\u001b[0m\n\u001b[0;32m---> 97\u001b[0;31m     \u001b[0;32mraise\u001b[0m \u001b[0mLinAlgError\u001b[0m\u001b[0;34m(\u001b[0m\u001b[0;34m\"Singular matrix\"\u001b[0m\u001b[0;34m)\u001b[0m\u001b[0;34m\u001b[0m\u001b[0;34m\u001b[0m\u001b[0m\n\u001b[0m\u001b[1;32m     98\u001b[0m \u001b[0;34m\u001b[0m\u001b[0m\n\u001b[1;32m     99\u001b[0m \u001b[0;32mdef\u001b[0m \u001b[0m_raise_linalgerror_nonposdef\u001b[0m\u001b[0;34m(\u001b[0m\u001b[0merr\u001b[0m\u001b[0;34m,\u001b[0m \u001b[0mflag\u001b[0m\u001b[0;34m)\u001b[0m\u001b[0;34m:\u001b[0m\u001b[0;34m\u001b[0m\u001b[0;34m\u001b[0m\u001b[0m\n",
      "\u001b[0;31mLinAlgError\u001b[0m: Singular matrix"
     ]
    }
   ],
   "source": [
    "np.linalg.inv(B)"
   ]
  },
  {
   "cell_type": "code",
   "execution_count": null,
   "metadata": {},
   "outputs": [],
   "source": []
  }
 ],
 "metadata": {
  "kernelspec": {
   "display_name": "Python 3",
   "language": "python",
   "name": "python3"
  },
  "language_info": {
   "codemirror_mode": {
    "name": "ipython",
    "version": 3
   },
   "file_extension": ".py",
   "mimetype": "text/x-python",
   "name": "python",
   "nbconvert_exporter": "python",
   "pygments_lexer": "ipython3",
   "version": "3.7.7"
  }
 },
 "nbformat": 4,
 "nbformat_minor": 4
}

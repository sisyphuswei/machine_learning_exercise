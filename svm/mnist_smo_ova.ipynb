{
 "cells": [
  {
   "cell_type": "code",
   "execution_count": 1,
   "metadata": {},
   "outputs": [
    {
     "name": "stdout",
     "output_type": "stream",
     "text": [
      "The shape of Xtrain is (2000, 784)\n",
      "The shape of Xtest is (500, 784)\n"
     ]
    }
   ],
   "source": [
    "# Simple smo algorithm for SVM. \n",
    "# The results of each running may be different due to random selection inside simple smo algorithm.\n",
    "import numpy as np\n",
    "import pandas as pd\n",
    "import matplotlib.pyplot as plt\n",
    "import utility\n",
    "\n",
    "Xtrain = pd.read_csv(\"MNIST_X_train.csv\")\n",
    "ytrain = pd.read_csv(\"MNIST_Y_train.csv\")\n",
    "Xtest = pd.read_csv(\"MNIST_X_test.csv\")\n",
    "ytest = pd.read_csv(\"MNIST_Y_test.csv\")\n",
    "npXtrain = Xtrain.to_numpy()\n",
    "npytrain = ytrain.to_numpy()\n",
    "npXtest = Xtest.to_numpy()\n",
    "npytest = ytest.to_numpy()\n",
    "print(\"The shape of Xtrain is {}\".format(Xtrain.shape))\n",
    "print(\"The shape of Xtest is {}\".format(Xtest.shape))\n",
    "# Feature scaling\n",
    "mean = np.mean(npXtrain, axis=0).reshape((1, npXtrain.shape[1]))\n",
    "std = np.std(npXtrain, axis=0).reshape((1, npXtrain.shape[1]))\n",
    "scaled_Xtrain = utility.scaler(npXtrain, mean, std)\n",
    "scaled_Xtest = utility.scaler(npXtest, mean, std)"
   ]
  },
  {
   "cell_type": "code",
   "execution_count": 5,
   "metadata": {},
   "outputs": [
    {
     "name": "stdout",
     "output_type": "stream",
     "text": [
      "Using linear kernel, training 0 vs rest is complete. The training accuracy is 99.45%\n",
      "Using linear kernel, training 1 vs rest is complete. The training accuracy is 99.50%\n",
      "Using linear kernel, training 2 vs rest is complete. The training accuracy is 98.65%\n",
      "Using linear kernel, training 3 vs rest is complete. The training accuracy is 97.70%\n",
      "Using linear kernel, training 4 vs rest is complete. The training accuracy is 98.75%\n",
      "Using linear kernel, training 5 vs rest is complete. The training accuracy is 98.15%\n",
      "Using linear kernel, training 6 vs rest is complete. The training accuracy is 98.95%\n",
      "Using linear kernel, training 7 vs rest is complete. The training accuracy is 98.45%\n",
      "Using linear kernel, training 8 vs rest is complete. The training accuracy is 96.65%\n",
      "Using linear kernel, training 9 vs rest is complete. The training accuracy is 97.50%\n",
      "The one vs all accuracy is 89.80%\n",
      "CPU times: user 2min 52s, sys: 1.25 s, total: 2min 53s\n",
      "Wall time: 2min 56s\n"
     ]
    }
   ],
   "source": [
    "%%time\n",
    "clf = utility.multiSVM(iterations=1, kernel = \"linear\", C=0.003)\n",
    "clf.fit(scaled_Xtrain, npytrain)\n",
    "pred_labels = clf.predict(scaled_Xtest)\n",
    "score = utility.accuracy(npytest, pred_labels)\n",
    "print(\"The one vs all accuracy is {:.2f}%\".format(score*100))"
   ]
  },
  {
   "cell_type": "code",
   "execution_count": 3,
   "metadata": {},
   "outputs": [
    {
     "name": "stdout",
     "output_type": "stream",
     "text": [
      "Using poly kernel, training 0 vs rest is complete. The training accuracy is 97.00%\n",
      "Using poly kernel, training 1 vs rest is complete. The training accuracy is 95.15%\n",
      "Using poly kernel, training 2 vs rest is complete. The training accuracy is 95.05%\n",
      "Using poly kernel, training 3 vs rest is complete. The training accuracy is 93.85%\n",
      "Using poly kernel, training 4 vs rest is complete. The training accuracy is 92.25%\n",
      "Using poly kernel, training 5 vs rest is complete. The training accuracy is 94.00%\n",
      "Using poly kernel, training 6 vs rest is complete. The training accuracy is 95.80%\n",
      "Using poly kernel, training 7 vs rest is complete. The training accuracy is 94.95%\n",
      "Using poly kernel, training 8 vs rest is complete. The training accuracy is 92.90%\n",
      "Using poly kernel, training 9 vs rest is complete. The training accuracy is 92.10%\n",
      "The one vs all accuracy is 88.20%\n",
      "CPU times: user 3min 17s, sys: 1.5 s, total: 3min 18s\n",
      "Wall time: 3min 23s\n"
     ]
    }
   ],
   "source": [
    "%%time\n",
    "clf = utility.multiSVM(iterations=5, kernel = \"poly\", C=1)\n",
    "clf.fit(scaled_Xtrain, npytrain)\n",
    "pred_labels = clf.predict(scaled_Xtest)\n",
    "score = utility.accuracy(npytest, pred_labels)\n",
    "print(\"The one vs all accuracy is {:.2f}%\".format(score*100))"
   ]
  },
  {
   "cell_type": "code",
   "execution_count": 6,
   "metadata": {},
   "outputs": [
    {
     "name": "stdout",
     "output_type": "stream",
     "text": [
      "Using rbf kernel, training 0 vs rest is complete. The training accuracy is 97.35%\n",
      "Using rbf kernel, training 1 vs rest is complete. The training accuracy is 99.05%\n",
      "Using rbf kernel, training 2 vs rest is complete. The training accuracy is 92.70%\n",
      "Using rbf kernel, training 3 vs rest is complete. The training accuracy is 92.80%\n",
      "Using rbf kernel, training 4 vs rest is complete. The training accuracy is 92.00%\n",
      "Using rbf kernel, training 5 vs rest is complete. The training accuracy is 92.30%\n",
      "Using rbf kernel, training 6 vs rest is complete. The training accuracy is 95.30%\n",
      "Using rbf kernel, training 7 vs rest is complete. The training accuracy is 94.45%\n",
      "Using rbf kernel, training 8 vs rest is complete. The training accuracy is 91.45%\n",
      "Using rbf kernel, training 9 vs rest is complete. The training accuracy is 90.80%\n",
      "The one vs all accuracy is 85.40%\n",
      "CPU times: user 4min 42s, sys: 2.38 s, total: 4min 45s\n",
      "Wall time: 4min 51s\n"
     ]
    }
   ],
   "source": [
    "%%time\n",
    "clf = utility.multiSVM(iterations=5, kernel = \"rbf\", C=0.15)\n",
    "clf.fit(scaled_Xtrain, npytrain)\n",
    "pred_labels = clf.predict(scaled_Xtest)\n",
    "score = utility.accuracy(npytest, pred_labels)\n",
    "print(\"The one vs all accuracy is {:.2f}%\".format(score*100))"
   ]
  },
  {
   "cell_type": "code",
   "execution_count": 7,
   "metadata": {},
   "outputs": [
    {
     "name": "stdout",
     "output_type": "stream",
     "text": [
      "Using sigmoid kernel, training 0 vs rest is complete. The training accuracy is 98.10%\n",
      "Using sigmoid kernel, training 1 vs rest is complete. The training accuracy is 98.95%\n",
      "Using sigmoid kernel, training 2 vs rest is complete. The training accuracy is 95.60%\n",
      "Using sigmoid kernel, training 3 vs rest is complete. The training accuracy is 95.85%\n",
      "Using sigmoid kernel, training 4 vs rest is complete. The training accuracy is 96.10%\n",
      "Using sigmoid kernel, training 5 vs rest is complete. The training accuracy is 94.10%\n",
      "Using sigmoid kernel, training 6 vs rest is complete. The training accuracy is 96.75%\n",
      "Using sigmoid kernel, training 7 vs rest is complete. The training accuracy is 97.20%\n",
      "Using sigmoid kernel, training 8 vs rest is complete. The training accuracy is 93.10%\n",
      "Using sigmoid kernel, training 9 vs rest is complete. The training accuracy is 91.40%\n",
      "The one vs all accuracy is 86.80%\n",
      "CPU times: user 4min 19s, sys: 2.38 s, total: 4min 21s\n",
      "Wall time: 4min 28s\n"
     ]
    }
   ],
   "source": [
    "%%time\n",
    "clf = utility.multiSVM(iterations=5, kernel = \"sigmoid\", C=0.3)\n",
    "clf.fit(scaled_Xtrain, npytrain)\n",
    "pred_labels = clf.predict(scaled_Xtest)\n",
    "score = utility.accuracy(npytest, pred_labels)\n",
    "print(\"The one vs all accuracy is {:.2f}%\".format(score*100))"
   ]
  },
  {
   "cell_type": "code",
   "execution_count": null,
   "metadata": {},
   "outputs": [],
   "source": []
  }
 ],
 "metadata": {
  "kernelspec": {
   "display_name": "Python 3",
   "language": "python",
   "name": "python3"
  },
  "language_info": {
   "codemirror_mode": {
    "name": "ipython",
    "version": 3
   },
   "file_extension": ".py",
   "mimetype": "text/x-python",
   "name": "python",
   "nbconvert_exporter": "python",
   "pygments_lexer": "ipython3",
   "version": "3.7.7"
  }
 },
 "nbformat": 4,
 "nbformat_minor": 4
}

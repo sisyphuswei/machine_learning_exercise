{
 "cells": [
  {
   "cell_type": "code",
   "execution_count": 6,
   "metadata": {},
   "outputs": [],
   "source": [
    "# draft of SVM.py. Doesn't represent the final look of SVM.py.\n",
    "import math\n",
    "import numpy as np\n",
    "import matplotlib.pyplot as plt\n",
    "\n",
    "def clip(alpha, L, H):\n",
    "    ''' \n",
    "        clip alpha to lie within range [L, H].\n",
    "    '''\n",
    "    if alpha < L:\n",
    "        return L\n",
    "    elif alpha > H:\n",
    "        return H\n",
    "    else:\n",
    "        return alpha\n",
    "    \n",
    "def select_j(i, m):\n",
    "    \"\"\"\n",
    "        Select a number in np.arange(m) that doesn't equal to i.\n",
    "    \"\"\"\n",
    "    j = np.random.choice(m-1, 1)\n",
    "    if j == i:\n",
    "        j = j + 1\n",
    "    return j\n",
    "\n",
    "def get_w(alphas, dataset, target):\n",
    "    \"\"\"\n",
    "        alphas is a column vector. w is a column vector. dataset is not extended by ones.\n",
    "        f = x*w + b where x is a row of the dataset.\n",
    "    \"\"\"\n",
    "    w = (dataset.T)@(alphas*target)\n",
    "    return w\n",
    "\n",
    "def f(w, b, x):\n",
    "    return x@w + b\n",
    "\n",
    "def predict(w, b, X):\n",
    "    \"\"\"\n",
    "        X is data.\n",
    "    \"\"\"\n",
    "    m = X.shape[0]\n",
    "    labels = np.zeros((m,1))\n",
    "    for i in np.arange(m):\n",
    "        if f(w, b, X[i,:])>= 0:\n",
    "            labels[i, 0] = 1\n",
    "        else:\n",
    "            labels[i, 0] = -1\n",
    "    return labels\n",
    "\n",
    "def rbf(u, v, gamma):\n",
    "    \"\"\"\n",
    "        rbf kernel. u and v are row vectors.\n",
    "    \"\"\"\n",
    "    return math.exp(-gamma * (u-v)@((u-v).T))\n",
    "\n",
    "def poly(u, v, d):\n",
    "    \"\"\"\n",
    "        polynomial kernel (1 + u \\cdot v)^d where d is degree. u and v are row vectors.\n",
    "    \"\"\"\n",
    "    return (1+u@(v.T))**d\n",
    "\n",
    "def accuracy(trueLabels, predLabels):\n",
    "    return float(sum(trueLabels == predLabels))/ float(len(trueLabels))"
   ]
  },
  {
   "cell_type": "code",
   "execution_count": 5,
   "metadata": {},
   "outputs": [],
   "source": [
    "def simple_smo(X, y, C, tol, iterations):\n",
    "    \"\"\"\n",
    "        C: regularization parameter. See PRML (7.33) p333.\n",
    "        tol: numerical tolerance\n",
    "        X: dataset without extended column of ones \n",
    "        y: target or label.\n",
    "        This function computes alphas (Lagrange mulipliers) and \n",
    "        return the corresponding w, b.\n",
    "    \"\"\"\n",
    "    (m, n) = X.shape\n",
    "    alphas = np.zeros((m, 1))\n",
    "    b = 0\n",
    "    passes = 0\n",
    "    while (passes < iterations):\n",
    "        num_changed_alphas = 0\n",
    "        for i in np.arange(m):\n",
    "            Ei = f(get_w(alphas, X, y), b, X[i, :]) - y[i]\n",
    "            if ((y[i, 0]*Ei < -tol) and (alphas[i, 0] < C)) or ((y[i, 0]*Ei > tol) and (alphas[i, 0] > 0)):\n",
    "                j = select_j(i, m)\n",
    "                Ej = f(get_w(alphas, X, y), b, X[j, :]) - y[j]\n",
    "                alphaIold = np.copy(alphas[i]); # prevent alphaIold being modified unexpectedly\n",
    "                alphaJold = np.copy(alphas[j]);\n",
    "                if (y[i] != y[j]):\n",
    "                    L = max(0, alphas[j] - alphas[i])\n",
    "                    H = min(C, C + alphas[j] - alphas[i])\n",
    "                else:\n",
    "                    L = max(0, alphas[j] + alphas[i] - C)\n",
    "                    H = min(C, alphas[j] + alphas[i])\n",
    "                if L==H:\n",
    "                    continue # continue to next i\n",
    "                eta = 2.0 * X[i,:]@(X[j,:].T) - X[i,:]@(X[i,:].T) - X[j,:]@(X[j,:].T)\n",
    "                if eta >= 0:\n",
    "                    continue\n",
    "                # Compute and clip new value for alphas[j]\n",
    "                alphas[j] = alphas[j] - y[j]*(Ei - Ej)/eta  \n",
    "                alphas[j] = clip(alphas[j], L, H)\n",
    "                if abs(alphaJold - alphas[j]) < 0.00001:\n",
    "                    continue \n",
    "                alphas[i] = alphas[i] + y[i]*y[j]*(alphaJold - alphas[j])\n",
    "                # compute b1 and b2\n",
    "                b1 = b - Ei- y[i]*(alphas[i]-alphaIold)*X[i,:]@(X[i,:].T) - \\\n",
    "                y[j]*(alphas[j]-alphaJold)*X[i,:]@(X[j,:].T)\n",
    "                b2 = b - Ej- y[i]*(alphas[i]-alphaIold)*X[i,:]@(X[j,:].T) - \\\n",
    "                y[j]*(alphas[j]-alphaJold)*X[j,:]@(X[j,:].T)\n",
    "                # compute b\n",
    "                if (0 < alphas[i]) and (alphas[i] < C):\n",
    "                    b = b1\n",
    "                elif (0 < alphas[j]) and (alphas[j] < C):\n",
    "                    b = b2\n",
    "                else:\n",
    "                    b = (b1 + b2)/2.0  \n",
    "                num_changed_alphas += 1\n",
    "            if (num_changed_alphas == 0): \n",
    "                passes += 1\n",
    "            else: \n",
    "                passes = 0\n",
    "    return [get_w(alphas, X, y), b]"
   ]
  },
  {
   "cell_type": "code",
   "execution_count": 3,
   "metadata": {},
   "outputs": [],
   "source": [
    "A = np.array([[-3, -2, -1],\n",
    "[-2, 3, -1],\n",
    "[-1, -4, -1],\n",
    "[2, 3, -1],\n",
    "[3, 4, -1],\n",
    "[-1, 9, 1],\n",
    "[2, 14, 1],\n",
    "[1, 17, 1],\n",
    "[3, 12, 1],\n",
    "[0, 8, 1]])"
   ]
  },
  {
   "cell_type": "code",
   "execution_count": 4,
   "metadata": {},
   "outputs": [
    {
     "name": "stdout",
     "output_type": "stream",
     "text": [
      "[[-0.08692265]\n",
      " [ 0.43461325]] and [[-2.47768506]]\n"
     ]
    },
    {
     "data": {
      "image/png": "[encoded data removed]",
      "text/plain": [
       "<Figure size 345.6x259.2 with 1 Axes>"
      ]
     },
     "metadata": {},
     "output_type": "display_data"
    }
   ],
   "source": [
    "X = A[:, :2]\n",
    "y = A[:, 2].reshape((10,1))\n",
    "C = 0.6\n",
    "tol = 0.001\n",
    "iterations = 400\n",
    "[w, b] = simple_smo(X, y, C, tol, iterations)\n",
    "\n",
    "print(\"{} and {}\".format(w,b))\n",
    "plt.figure()\n",
    "plt.scatter(X[:,0], X[:,1], c = 3*y)\n",
    "#plt.xlim(-1,15)\n",
    "plt.gca().set_aspect(\"equal\")\n",
    "plt.xlabel(\"$x$\")\n",
    "plt.ylabel(\"$y$\")\n",
    "ax = plt.gca()\n",
    "x_vals = np.array(ax.get_xlim())\n",
    "y_vals = -w[0,0]/w[1,0]*x_vals - b[0,0]/w[1,0]\n",
    "plt.plot(x_vals, y_vals, c=\"y\");"
   ]
  },
  {
   "cell_type": "code",
   "execution_count": 6,
   "metadata": {},
   "outputs": [
    {
     "name": "stdout",
     "output_type": "stream",
     "text": [
      "[[-1.]\n",
      " [-1.]\n",
      " [-1.]\n",
      " [-1.]\n",
      " [-1.]\n",
      " [ 1.]\n",
      " [ 1.]\n",
      " [ 1.]\n",
      " [ 1.]\n",
      " [ 1.]]\n"
     ]
    }
   ],
   "source": [
    "print(predict(w, b, X))"
   ]
  },
  {
   "cell_type": "code",
   "execution_count": 8,
   "metadata": {},
   "outputs": [
    {
     "data": {
      "text/plain": [
       "1.0"
      ]
     },
     "execution_count": 8,
     "metadata": {},
     "output_type": "execute_result"
    }
   ],
   "source": [
    "accuracy(predict(w, b, X), y)"
   ]
  },
  {
   "cell_type": "code",
   "execution_count": 11,
   "metadata": {},
   "outputs": [
    {
     "name": "stdout",
     "output_type": "stream",
     "text": [
      "[-1 -1  1  1  1 -1 -1 -1  1  1  1 -1 -1  1 -1 -1 -1  1 -1 -1  1 -1  1  1\n",
      "  1 -1 -1  1 -1 -1  1 -1  1  1  1  1  1 -1  1 -1 -1  1  1  1  1 -1 -1  1\n",
      " -1 -1  1 -1 -1 -1  1 -1 -1 -1  1 -1  1  1  1 -1  1 -1 -1  1  1  1 -1  1\n",
      "  1 -1  1 -1 -1 -1  1 -1  1  1  1 -1  1 -1 -1 -1  1 -1 -1  1 -1  1  1  1\n",
      "  1 -1  1 -1]\n"
     ]
    },
    {
     "data": {
      "text/plain": [
       "<matplotlib.collections.PathCollection at 0x1a1a0d5150>"
      ]
     },
     "execution_count": 11,
     "metadata": {},
     "output_type": "execute_result"
    },
    {
     "data": {
      "image/png": "[encoded data removed]",
      "text/plain": [
       "<Figure size 345.6x259.2 with 1 Axes>"
      ]
     },
     "metadata": {},
     "output_type": "display_data"
    }
   ],
   "source": [
    "from sklearn.datasets import make_blobs\n",
    "\n",
    "X, y = make_blobs(centers = [[0,0], [2,2]])\n",
    "for i in range(len(y)):\n",
    "    if y[i] == 0:\n",
    "        y[i] = -1\n",
    "    else:\n",
    "        continue\n",
    "print(y)\n",
    "plt.figure()\n",
    "plt.scatter(X[:,0], X[:,1], c = y)"
   ]
  },
  {
   "cell_type": "code",
   "execution_count": 12,
   "metadata": {},
   "outputs": [
    {
     "data": {
      "image/png": "[encoded data removed]",
      "text/plain": [
       "<Figure size 345.6x259.2 with 1 Axes>"
      ]
     },
     "metadata": {},
     "output_type": "display_data"
    }
   ],
   "source": [
    "C = 0.6\n",
    "tol = 0.001\n",
    "iterations = 400\n",
    "y = y.reshape((len(y),1))\n",
    "[w, b] = simple_smo(X, y, C, tol, iterations)\n",
    "plt.figure()\n",
    "plt.scatter(X[:,0], X[:,1], c = y)\n",
    "#plt.xlim(-1,15)\n",
    "plt.gca().set_aspect(\"equal\")\n",
    "plt.xlabel(\"$x$\")\n",
    "plt.ylabel(\"$y$\")\n",
    "ax = plt.gca()\n",
    "x_vals = np.array(ax.get_xlim())\n",
    "y_vals = -w[0,0]/w[1,0]*x_vals - b[0,0]/w[1,0]\n",
    "plt.plot(x_vals, y_vals, c=\"y\");"
   ]
  },
  {
   "cell_type": "code",
   "execution_count": 7,
   "metadata": {},
   "outputs": [
    {
     "data": {
      "text/plain": [
       "2.718281828459045"
      ]
     },
     "execution_count": 7,
     "metadata": {},
     "output_type": "execute_result"
    }
   ],
   "source": [
    "gamma = -1\n",
    "u = np.array([0,1])\n",
    "v = np.array([0,0])\n",
    "rbf(u,v,gamma)"
   ]
  },
  {
   "cell_type": "code",
   "execution_count": 9,
   "metadata": {},
   "outputs": [
    {
     "data": {
      "text/plain": [
       "4"
      ]
     },
     "execution_count": 9,
     "metadata": {},
     "output_type": "execute_result"
    }
   ],
   "source": [
    "d = 2\n",
    "poly(u, u, d)\n"
   ]
  },
  {
   "cell_type": "code",
   "execution_count": null,
   "metadata": {},
   "outputs": [],
   "source": []
  }
 ],
 "metadata": {
  "kernelspec": {
   "display_name": "Python 3",
   "language": "python",
   "name": "python3"
  },
  "language_info": {
   "codemirror_mode": {
    "name": "ipython",
    "version": 3
   },
   "file_extension": ".py",
   "mimetype": "text/x-python",
   "name": "python",
   "nbconvert_exporter": "python",
   "pygments_lexer": "ipython3",
   "version": "3.7.7"
  }
 },
 "nbformat": 4,
 "nbformat_minor": 4
}

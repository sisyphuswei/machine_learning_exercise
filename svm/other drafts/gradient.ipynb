{
 "cells": [
  {
   "cell_type": "code",
   "execution_count": 2,
   "metadata": {},
   "outputs": [],
   "source": [
    "import numpy as np\n",
    "def gradient(X, y, c, lam):\n",
    "    \"\"\"\n",
    "        \n",
    "    \"\"\"\n",
    "    distances = 1 - y * (X@c) # hinge loss\n",
    "    grad = np.zeros((len(c),1))\n",
    "    for ind, d in enumerate(distances):\n",
    "        if max(0, d) == 0:\n",
    "            di = 0\n",
    "        else:\n",
    "            di = - lam * (y[ind] * X[ind, :]).T\n",
    "        grad += di\n",
    "    grad += 2 * np.vstack(([[0]], c[1:]))\n",
    "    return grad"
   ]
  },
  {
   "cell_type": "code",
   "execution_count": 4,
   "metadata": {},
   "outputs": [
    {
     "name": "stdout",
     "output_type": "stream",
     "text": [
      "[4]\n"
     ]
    }
   ],
   "source": [
    "#A = np.arange(6).reshape((6,1))\n",
    "#for ind, d in enumerate(A):\n",
    "#    if max(0, d) == 4:\n",
    "#        print(d)\n",
    "#B=np.vstack(([[0]], A[2:]))\n",
    "#print(B)"
   ]
  },
  {
   "cell_type": "code",
   "execution_count": null,
   "metadata": {},
   "outputs": [],
   "source": []
  }
 ],
 "metadata": {
  "kernelspec": {
   "display_name": "Python 3",
   "language": "python",
   "name": "python3"
  },
  "language_info": {
   "codemirror_mode": {
    "name": "ipython",
    "version": 3
   },
   "file_extension": ".py",
   "mimetype": "text/x-python",
   "name": "python",
   "nbconvert_exporter": "python",
   "pygments_lexer": "ipython3",
   "version": "3.7.7"
  }
 },
 "nbformat": 4,
 "nbformat_minor": 4
}

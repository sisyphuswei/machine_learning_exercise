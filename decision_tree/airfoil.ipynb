{
 "cells": [
  {
   "cell_type": "code",
   "execution_count": 1,
   "metadata": {},
   "outputs": [],
   "source": [
    "import pandas as pd\n",
    "import scipy\n",
    "import numpy as np\n",
    "import regressor as re\n",
    "\n",
    "# load data into dataframe\n",
    "trainX = pd.read_csv(\"airfoil_self_noise_X_train.csv\")\n",
    "trainY = pd.read_csv(\"airfoil_self_noise_y_train.csv\")\n",
    "testX = pd.read_csv(\"airfoil_self_noise_X_test.csv\")\n",
    "testY = pd.read_csv(\"airfoil_self_noise_y_test.csv\")\n",
    "\n",
    "nptrainX = trainX.to_numpy()\n",
    "nptrainY = trainY.to_numpy()\n",
    "nptestX = testX.to_numpy()\n",
    "nptestY = testY.to_numpy()"
   ]
  },
  {
   "cell_type": "code",
   "execution_count": 35,
   "metadata": {},
   "outputs": [
    {
     "name": "stdout",
     "output_type": "stream",
     "text": [
      "The RMSE is 2.86 and the PCC is 0.91\n",
      "CPU times: user 572 ms, sys: 7.11 ms, total: 579 ms\n",
      "Wall time: 606 ms\n"
     ]
    }
   ],
   "source": [
    "%%time\n",
    "reg = re.DecisionTreeRegressor(2)\n",
    "reg.fit(nptrainX, nptrainY)\n",
    "pred = reg.predict(nptestX)\n",
    "rmse = np.sqrt(np.mean((pred-nptestY)**2)) \n",
    "p = re.pcc(pred, nptestY)\n",
    "print(\"The RMSE is {:.2f} and the PCC is {:.2f}\".format(rmse, p[0,0]))\n"
   ]
  },
  {
   "cell_type": "code",
   "execution_count": 7,
   "metadata": {},
   "outputs": [
    {
     "name": "stdout",
     "output_type": "stream",
     "text": [
      "The RMSE is 3.26 and the PCC is 0.88\n",
      "CPU times: user 272 ms, sys: 3.84 ms, total: 276 ms\n",
      "Wall time: 279 ms\n"
     ]
    }
   ],
   "source": [
    "%%time\n",
    "reg = re.DecisionTreeRegressor(3, max_depth=10)\n",
    "reg.fit(nptrainX, nptrainY)\n",
    "pred = reg.predict(nptestX)\n",
    "rmse = np.sqrt(np.mean((pred-nptestY)**2)) \n",
    "p = re.pcc(pred, nptestY)\n",
    "print(\"The RMSE is {:.2f} and the PCC is {:.2f}\".format(rmse, p[0,0]))"
   ]
  },
  {
   "cell_type": "code",
   "execution_count": 5,
   "metadata": {},
   "outputs": [
    {
     "name": "stdout",
     "output_type": "stream",
     "text": [
      "The RMSE is 2.84 and the PCC is 0.91\n",
      "CPU times: user 464 ms, sys: 6.92 ms, total: 471 ms\n",
      "Wall time: 488 ms\n"
     ]
    }
   ],
   "source": [
    "%%time\n",
    "reg = re.DecisionTreeRegressor(3, max_depth=15)\n",
    "reg.fit(nptrainX, nptrainY)\n",
    "pred = reg.predict(nptestX)\n",
    "rmse = np.sqrt(np.mean((pred-nptestY)**2)) \n",
    "p = re.pcc(pred, nptestY)\n",
    "print(\"The RMSE is {:.2f} and the PCC is {:.2f}\".format(rmse, p[0,0]))"
   ]
  },
  {
   "cell_type": "code",
   "execution_count": null,
   "metadata": {},
   "outputs": [],
   "source": []
  }
 ],
 "metadata": {
  "kernelspec": {
   "display_name": "Python 3",
   "language": "python",
   "name": "python3"
  },
  "language_info": {
   "codemirror_mode": {
    "name": "ipython",
    "version": 3
   },
   "file_extension": ".py",
   "mimetype": "text/x-python",
   "name": "python",
   "nbconvert_exporter": "python",
   "pygments_lexer": "ipython3",
   "version": "3.7.7"
  }
 },
 "nbformat": 4,
 "nbformat_minor": 4
}

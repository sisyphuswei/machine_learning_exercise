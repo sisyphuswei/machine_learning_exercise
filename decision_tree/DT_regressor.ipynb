{
 "cells": [
  {
   "cell_type": "code",
   "execution_count": 32,
   "metadata": {},
   "outputs": [],
   "source": [
    "import numpy as np\n",
    "import pandas as pd\n",
    "import time\n",
    "\n",
    "def PCC(x, y):\n",
    "    \"\"\"\n",
    "        x and y are 1d vectors having the same size.\n",
    "        return the Pearson's coefficient.\n",
    "    \"\"\"   \n",
    "    A = x - np.mean(x)\n",
    "    B = y - np.mean(y)\n",
    "    return np.dot(A, B)/np.sqrt(np.dot(A, A)*np.dot(B, B))\n",
    "\n",
    "def RMSE(x, y):\n",
    "    \"\"\"\n",
    "        x and y are 1d vectors having the same size.\n",
    "    \"\"\"\n",
    "    m = x.shape[0]\n",
    "    return np.sqrt(np.dot(x-y, x-y)/m)\n",
    "\n",
    "def rss(y):\n",
    "    \"\"\"residue square error\n",
    "    \"\"\"\n",
    "    if y.size==0 or y is None:\n",
    "        return 0\n",
    "    return np.sum((y-np.mean(y))**2)\n",
    "\n",
    "def partition(X, y, feature, threshold):\n",
    "    \"\"\"\n",
    "        split dataset with respect to a decision.\n",
    "    \"\"\"\n",
    "    feature_values = X[:, feature]\n",
    "    left_samples = X[feature_values <= threshold]\n",
    "    left_target = y[feature_values <= threshold]\n",
    "    right_samples = X[feature_values > threshold]\n",
    "    right_target = y[feature_values > threshold]\n",
    "    \n",
    "    return left_samples, left_target, right_samples, right_target\n",
    "\n",
    "def best_split_one_feature(X, y, feature):\n",
    "    \"\"\"\n",
    "        Compute the best split along a certain column.\n",
    "    \"\"\"\n",
    "    thresholds = np.unique(X[:, feature])\n",
    "    gain_list = np.zeros(thresholds.size)\n",
    "    best_gain = 0\n",
    "    best_threshold = None\n",
    "    if len(thresholds) == 1:\n",
    "        return best_gain, best_threshold\n",
    "\n",
    "    for threshold in thresholds:\n",
    "        left_target = y[X[:, feature] <= threshold]\n",
    "        right_target = y[X[:, feature] > threshold]\n",
    "        new_gain = rss(y) - rss(left_target) - rss(right_target)\n",
    "        if new_gain > best_gain:\n",
    "            best_threshold = threshold\n",
    "            best_gain = new_gain\n",
    "        \n",
    "    return best_gain, best_threshold\n",
    "\n",
    "def best_split_all(X, y):\n",
    "    \"\"\"\n",
    "        Compute the best split among all columns.\n",
    "        Return\n",
    "        ------\n",
    "        left_samples, left_targets, right_samples, right_targets, best_feature, best_threshold\n",
    "    \"\"\"\n",
    "    best_gain = 0\n",
    "    best_threshold = None\n",
    "    best_feature = None\n",
    "    for i in np.arange(X.shape[1]):\n",
    "        new_gain, new_threshold = best_split_one_feature(X, y, i)\n",
    "        if new_gain > best_gain:\n",
    "            best_threshold = new_threshold\n",
    "            best_feature = i\n",
    "            best_gain = new_gain\n",
    "\n",
    "    left_samples, left_targets, right_samples, right_targets = partition(X, y, best_feature, best_threshold) \n",
    "        \n",
    "    return left_samples, left_targets, right_samples, right_targets, best_feature, best_threshold\n",
    "\n",
    "def tree_propagation(x, tree):\n",
    "    \"\"\"\n",
    "        Predict x using a tree\n",
    "    \"\"\"\n",
    "    if tree.predict != None:\n",
    "        return tree.predict\n",
    "    elif x[tree.feature] <= tree.threshold:\n",
    "        branch = tree.left_branch\n",
    "    else:\n",
    "        branch = tree.right_branch\n",
    "    \n",
    "    return tree_propagation(x, branch)\n",
    "\n",
    "class DT_regressor:\n",
    "    \n",
    "    def __init__(self, min_samples_split=2, max_depth = None):\n",
    "        self.min_samples_split = min_samples_split\n",
    "        self.tree = None\n",
    "        self.max_depth = max_depth\n",
    "        \n",
    "    def fit(self, X, y):\n",
    "        self.tree = self.build_tree(X, y, self.min_samples_split)   \n",
    "\n",
    "    def build_tree(self, X, y, min_samples_split, depth=1):\n",
    "        \"\"\"\n",
    "            Create a decision tree recursively.\n",
    "        \"\"\"\n",
    "        if X.shape[0] <= min_samples_split:\n",
    "            return decision_node(predict = np.mean(y))\n",
    "        elif self.max_depth == depth: # if max_depth is reached, build a leaf node.\n",
    "            return decision_node(predict = np.mean(y))\n",
    "\n",
    "        left_samples, left_targets, right_samples, right_targets, feature, threshold = best_split_all(X, y)\n",
    "        left_branch = self.build_tree(left_samples, left_targets, min_samples_split, depth+1)\n",
    "        right_branch = self.build_tree(right_samples, right_targets, min_samples_split, depth+1)\n",
    "\n",
    "        return decision_node(feature = feature, threshold = threshold, left_branch = left_branch, right_branch = right_branch, depth=depth)\n",
    "\n",
    "    def predict(self, Xtest):\n",
    "        if Xtest.ndim == 1:\n",
    "            return tree_propagation(Xtest, self.tree)\n",
    "        # if Xtest.ndim == 2\n",
    "        pred = np.zeros(Xtest.shape[0])\n",
    "        for i in np.arange(Xtest.shape[0]):\n",
    "            pred[i] = tree_propagation(Xtest[i], self.tree)\n",
    "        return pred\n",
    "        \n",
    "class decision_node:\n",
    "    \"\"\"\n",
    "        A Decision Node asks a question.\n",
    "        This holds a reference to the question, and to the two child nodes.\n",
    "    \"\"\"\n",
    "    def __init__(self, feature = -1, threshold = None, left_branch = None, right_branch = None, predict = None, depth=1):\n",
    "        self.feature = feature\n",
    "        self.threshold = threshold\n",
    "        self.depth = depth\n",
    "        self.left_branch = left_branch\n",
    "        self.right_branch = right_branch\n",
    "        self.predict = predict # if self.predict is not None, then this node is indeed a leaf."
   ]
  },
  {
   "cell_type": "code",
   "execution_count": 33,
   "metadata": {},
   "outputs": [],
   "source": [
    "import time\n",
    "\n",
    "Xtrain = pd.read_csv(\"airfoil_self_noise_X_train.csv\").values\n",
    "ytrain = pd.read_csv(\"airfoil_self_noise_y_train.csv\").values\n",
    "Xtest = pd.read_csv(\"airfoil_self_noise_X_test.csv\").values\n",
    "ytest = pd.read_csv(\"airfoil_self_noise_y_test.csv\").values\n",
    "\n",
    "ytrain, ytest = ytrain.flatten(), ytest.flatten()"
   ]
  },
  {
   "cell_type": "code",
   "execution_count": 34,
   "metadata": {},
   "outputs": [
    {
     "name": "stdout",
     "output_type": "stream",
     "text": [
      "The RMSE is 2.86 and the PCC is 0.91\n",
      "Takes 0.67 seconds\n"
     ]
    }
   ],
   "source": [
    "start = time.time()\n",
    "reg = DT_regressor(min_samples_split=2)\n",
    "reg.fit(Xtrain, ytrain)\n",
    "ypred = reg.predict(Xtest)\n",
    "rmse = RMSE(ypred, ytest)\n",
    "pcc = PCC(ypred, ytest)\n",
    "\n",
    "end = time.time()\n",
    "print(\"The RMSE is {:.2f} and the PCC is {:.2f}\".format(rmse, pcc))\n",
    "print(\"Takes {:.2f} seconds\".format(end-start))"
   ]
  },
  {
   "cell_type": "code",
   "execution_count": 15,
   "metadata": {},
   "outputs": [
    {
     "data": {
      "text/plain": [
       "125.201"
      ]
     },
     "execution_count": 15,
     "metadata": {},
     "output_type": "execute_result"
    }
   ],
   "source": [
    "reg.predict(Xtest[0])"
   ]
  },
  {
   "cell_type": "code",
   "execution_count": 16,
   "metadata": {},
   "outputs": [
    {
     "name": "stdout",
     "output_type": "stream",
     "text": [
      "The RMSE is 2.59 and the PCC is 0.93\n"
     ]
    }
   ],
   "source": [
    "from sklearn.tree import DecisionTreeRegressor\n",
    "regressor = DecisionTreeRegressor()\n",
    "regressor.fit(Xtrain, ytrain)\n",
    "ypred = regressor.predict(Xtest)\n",
    "rmse = RMSE(ypred, ytest)\n",
    "pcc = PCC(ypred, ytest)\n",
    "print(\"The RMSE is {:.2f} and the PCC is {:.2f}\".format(rmse, pcc))"
   ]
  },
  {
   "cell_type": "code",
   "execution_count": null,
   "metadata": {},
   "outputs": [],
   "source": []
  }
 ],
 "metadata": {
  "kernelspec": {
   "display_name": "Python 3",
   "language": "python",
   "name": "python3"
  },
  "language_info": {
   "codemirror_mode": {
    "name": "ipython",
    "version": 3
   },
   "file_extension": ".py",
   "mimetype": "text/x-python",
   "name": "python",
   "nbconvert_exporter": "python",
   "pygments_lexer": "ipython3",
   "version": "3.6.12"
  }
 },
 "nbformat": 4,
 "nbformat_minor": 4
}

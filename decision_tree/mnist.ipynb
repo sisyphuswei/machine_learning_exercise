{
 "cells": [
  {
   "cell_type": "code",
   "execution_count": 1,
   "metadata": {},
   "outputs": [],
   "source": [
    "import pandas as pd\n",
    "import scipy\n",
    "import numpy as np\n",
    "import classifier as cl\n",
    "from sklearn.tree import DecisionTreeClassifier\n",
    "\n",
    "# load data into dataframe\n",
    "trainX = pd.read_csv(\"MNIST_X_train.csv\")\n",
    "trainY = pd.read_csv(\"MNIST_y_train.csv\")\n",
    "testX = pd.read_csv(\"MNIST_X_test.csv\")\n",
    "testY = pd.read_csv(\"MNIST_y_test.csv\")\n",
    "\n",
    "nptrainX = trainX.to_numpy()\n",
    "nptrainY = trainY.to_numpy()\n",
    "nptestX = testX.to_numpy()\n",
    "nptestY = testY.to_numpy()"
   ]
  },
  {
   "cell_type": "code",
   "execution_count": 2,
   "metadata": {},
   "outputs": [
    {
     "name": "stdout",
     "output_type": "stream",
     "text": [
      "The accuracy of sklearn decision tree classifier is 71.40%\n"
     ]
    }
   ],
   "source": [
    "clf = DecisionTreeClassifier()\n",
    "clf.fit(nptrainX, nptrainY)\n",
    "score = clf.score(nptestX, nptestY)\n",
    "print(\"The accuracy of sklearn decision tree classifier is {:.2f}%\".format(score*100))"
   ]
  },
  {
   "cell_type": "code",
   "execution_count": 2,
   "metadata": {},
   "outputs": [
    {
     "name": "stdout",
     "output_type": "stream",
     "text": [
      "The accuracy of my tree classifier is 34.20%\n",
      "CPU times: user 38.3 s, sys: 397 ms, total: 38.7 s\n",
      "Wall time: 41.6 s\n"
     ]
    }
   ],
   "source": [
    "%%time\n",
    "clf = cl.DecisionTreeClassifier(min_samples_split=3, max_depth = 3)\n",
    "clf.fit(nptrainX, nptrainY)\n",
    "pred = clf.predict(nptestX)\n",
    "score = cl.accuracy(pred, nptestY)\n",
    "print(\"The accuracy of my tree classifier is {:.2f}%\".format(score*100))"
   ]
  },
  {
   "cell_type": "code",
   "execution_count": 3,
   "metadata": {},
   "outputs": [
    {
     "name": "stdout",
     "output_type": "stream",
     "text": [
      "The accuracy of my tree classifier is 71.00%\n",
      "CPU times: user 2min 38s, sys: 1.42 s, total: 2min 40s\n",
      "Wall time: 2min 46s\n"
     ]
    }
   ],
   "source": [
    "%%time\n",
    "clf = cl.DecisionTreeClassifier(min_samples_split=3, max_depth = 10)\n",
    "clf.fit(nptrainX, nptrainY)\n",
    "pred = clf.predict(nptestX)\n",
    "score = cl.accuracy(pred, nptestY)\n",
    "print(\"The accuracy of my tree classifier is {:.2f}%\".format(score*100))"
   ]
  },
  {
   "cell_type": "code",
   "execution_count": 4,
   "metadata": {},
   "outputs": [
    {
     "name": "stdout",
     "output_type": "stream",
     "text": [
      "The accuracy of my tree classifier is 70.20%\n",
      "CPU times: user 2min 49s, sys: 1.41 s, total: 2min 50s\n",
      "Wall time: 2min 56s\n"
     ]
    }
   ],
   "source": [
    "%%time\n",
    "clf = cl.DecisionTreeClassifier(min_samples_split=3, max_depth = 15)\n",
    "clf.fit(nptrainX, nptrainY)\n",
    "pred = clf.predict(nptestX)\n",
    "score = cl.accuracy(pred, nptestY)\n",
    "print(\"The accuracy of my tree classifier is {:.2f}%\".format(score*100))"
   ]
  },
  {
   "cell_type": "code",
   "execution_count": null,
   "metadata": {},
   "outputs": [],
   "source": []
  }
 ],
 "metadata": {
  "kernelspec": {
   "display_name": "Python 3",
   "language": "python",
   "name": "python3"
  },
  "language_info": {
   "codemirror_mode": {
    "name": "ipython",
    "version": 3
   },
   "file_extension": ".py",
   "mimetype": "text/x-python",
   "name": "python",
   "nbconvert_exporter": "python",
   "pygments_lexer": "ipython3",
   "version": "3.7.7"
  }
 },
 "nbformat": 4,
 "nbformat_minor": 4
}
